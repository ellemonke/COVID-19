{
 "cells": [
  {
   "cell_type": "markdown",
   "metadata": {},
   "source": [
    "# COVID-19 Analysis"
   ]
  },
  {
   "cell_type": "code",
   "execution_count": null,
   "metadata": {},
   "outputs": [],
   "source": [
    "import pandas as pd\n",
    "import numpy as np\n",
    "import matplotlib.pyplot as plt\n",
    "import os\n",
    "import json\n",
    "import requests\n",
    "import datetime \n",
    "from datetime import date\n",
    "from datetime import datetime as dt\n",
    "from pprint import pprint"
   ]
  },
  {
   "cell_type": "markdown",
   "metadata": {},
   "source": [
    "## Setting Up the Data"
   ]
  },
  {
   "cell_type": "code",
   "execution_count": null,
   "metadata": {},
   "outputs": [],
   "source": [
    "# Regions\n",
    "file = os.path.join('resources', 'demographics', 'regions.ipynb')\n",
    "%run '{file}'\n",
    "# regions_df"
   ]
  },
  {
   "cell_type": "markdown",
   "metadata": {},
   "source": [
    "#### Training Data"
   ]
  },
  {
   "cell_type": "code",
   "execution_count": null,
   "metadata": {},
   "outputs": [],
   "source": [
    "# Both clinically diagnosed and lab-confirmed cases\n",
    "# Source: https://www.kaggle.com/c/covid19-global-forecasting-week-2\n",
    "train_data = os.path.join('resources','train.csv')\n",
    "train_df = pd.read_csv(train_data)\n",
    "train_df = train_df[['Province_State','Country_Region','Date','ConfirmedCases','Fatalities']]\n",
    "train_df['Province_State'] = train_df['Province_State'].fillna('')\n",
    "train_df['Country_Region'].replace('US', 'United States', inplace=True)\n",
    "# train_df.head()"
   ]
  },
  {
   "cell_type": "markdown",
   "metadata": {},
   "source": [
    "#### Confirmed Cases"
   ]
  },
  {
   "cell_type": "code",
   "execution_count": null,
   "metadata": {},
   "outputs": [],
   "source": [
    "# All Countries\n",
    "confirmed_df = train_df.pivot_table(index=['Country_Region','Province_State'], columns='Date', values='ConfirmedCases')\n",
    "confirmed_df = confirmed_df.groupby('Country_Region').sum()\n",
    "# confirmed_df.head()"
   ]
  },
  {
   "cell_type": "code",
   "execution_count": null,
   "metadata": {},
   "outputs": [],
   "source": [
    "# By Region\n",
    "confirmed_df2 = pd.merge(regions_df, confirmed_df, on=['Country_Region'], how='right')\n",
    "confirmed_df2 = confirmed_df2.drop_duplicates().sort_values(by='Country_Region')\n",
    "confirmed_r_df = confirmed_df2.groupby('Region').sum()\n",
    "# confirmed_r_df"
   ]
  },
  {
   "cell_type": "code",
   "execution_count": null,
   "metadata": {},
   "outputs": [],
   "source": [
    "# Top Ten Countries\n",
    "n = 10\n",
    "last_day = confirmed_df.columns[-1]\n",
    "top_confirmed_df = confirmed_df.nlargest(n, last_day)\n",
    "# top_confirmed_df"
   ]
  },
  {
   "cell_type": "markdown",
   "metadata": {},
   "source": [
    "#### Fatalities"
   ]
  },
  {
   "cell_type": "code",
   "execution_count": null,
   "metadata": {},
   "outputs": [],
   "source": [
    "# All Countries\n",
    "fatalities_df = train_df.pivot_table(index=['Country_Region','Province_State'], columns='Date', values='Fatalities')\n",
    "fatalities_df = fatalities_df.groupby('Country_Region').sum()\n",
    "# fatalities_df.head()"
   ]
  },
  {
   "cell_type": "code",
   "execution_count": null,
   "metadata": {},
   "outputs": [],
   "source": [
    "# By Region\n",
    "fatalities_df2 = pd.merge(regions_df, fatalities_df, on=['Country_Region'], how='right')\n",
    "fatalities_df2 = fatalities_df2.drop_duplicates().sort_values(by='Country_Region')\n",
    "fatalities_r_df = fatalities_df2.groupby('Region').sum()\n",
    "# fatalities_r_df"
   ]
  },
  {
   "cell_type": "code",
   "execution_count": null,
   "metadata": {},
   "outputs": [],
   "source": [
    "# Top Ten Countries\n",
    "n = 10\n",
    "last_day = fatalities_df.columns[-1]\n",
    "top_fatalities_df = fatalities_df.nlargest(n, last_day)\n",
    "# top_fatalities_df"
   ]
  },
  {
   "cell_type": "markdown",
   "metadata": {},
   "source": [
    "#### Recovered"
   ]
  },
  {
   "cell_type": "code",
   "execution_count": null,
   "metadata": {},
   "outputs": [],
   "source": [
    "# All Countries\n",
    "# Source: https://github.com/CSSEGISandData/COVID-19/\n",
    "recovered_df = pd.read_csv('https://github.com/CSSEGISandData/COVID-19/raw/master/csse_covid_19_data/csse_covid_19_time_series/time_series_covid19_recovered_global.csv')\n",
    "recovered_df = recovered_df.rename(columns={'Country/Region':'Country_Region'})\n",
    "recovered_df['Country_Region'].replace('US', 'United States', inplace=True)\n",
    "recovered_df = recovered_df.groupby('Country_Region').sum()\n",
    "recovered_df = recovered_df.drop(['Lat','Long'], axis=1)\n",
    "col_drop = len(confirmed_df.columns) - len(recovered_df.columns)\n",
    "recovered_df = recovered_df.iloc[:,:col_drop] \n",
    "recovered_df.columns = confirmed_df.columns\n",
    "# recovered_df.head()"
   ]
  },
  {
   "cell_type": "code",
   "execution_count": null,
   "metadata": {},
   "outputs": [],
   "source": [
    "# By Region\n",
    "recovered_df2 = pd.merge(regions_df, recovered_df, on=['Country_Region'], how='right')\n",
    "recovered_df2 = recovered_df2.drop_duplicates().sort_values(by='Country_Region')\n",
    "recovered_r_df = recovered_df2.groupby('Region').sum()\n",
    "# recovered_r_df"
   ]
  },
  {
   "cell_type": "markdown",
   "metadata": {},
   "source": [
    "## Charting Actual Spread"
   ]
  },
  {
   "cell_type": "code",
   "execution_count": null,
   "metadata": {},
   "outputs": [],
   "source": [
    "countries_color = {\n",
    "    'China': 'r',\n",
    "    'Italy': 'y',\n",
    "    'United States': 'b',\n",
    "    'Spain': 'g',\n",
    "    'Germany': 'c',\n",
    "    'Iran': 'k',\n",
    "    'France': 'm',\n",
    "    'Switzerland': 'r',\n",
    "    'United Kingdom': 'y',\n",
    "    'Korea, South': 'b',\n",
    "    'Netherlands': 'g',\n",
    "    'Belgium': 'k'\n",
    "}\n",
    "\n",
    "regions_color = {\n",
    "    'East Asia & Pacific': 'r', \n",
    "    'Europe & Central Asia': 'y', \n",
    "    'North America': 'b',    \n",
    "    'South Asia': 'g', \n",
    "    'Middle East & North Africa': 'c',\n",
    "    'Sub-Saharan Africa ': 'k',\n",
    "    'Latin America & Caribbean ': 'm', \n",
    "}"
   ]
  },
  {
   "cell_type": "code",
   "execution_count": null,
   "metadata": {},
   "outputs": [],
   "source": [
    "def chart_doubles(df1, df2, color_index, output_file):\n",
    "\n",
    "    # x-axis\n",
    "    dates = df1.columns.tolist()\n",
    "    days = range(len(dates))\n",
    "\n",
    "    # y-axis: Confirmed Cases\n",
    "    c_list = df1.index          # list of countries\n",
    "    y_confirmed = df1.values.tolist()   # total confirmed cases\n",
    "\n",
    "    # y-axis: Fatalities\n",
    "    f_list = df2.index          # list of countries\n",
    "    y_fatalities = df2.values.tolist()   # total fatalities\n",
    "\n",
    "    # Subplots\n",
    "    fig, (ax1, ax2) = plt.subplots(nrows=1, ncols=2, figsize = (15,5))\n",
    "\n",
    "    # x-axis labels\n",
    "    xticks = [day*7 for day in days]   # per week\n",
    "    xlabels = dates[0::7]\n",
    "\n",
    "    ax1.set(xlabel=\"Date\", ylabel=\"Confirmed Cases\")\n",
    "    ax1.set_xticks(xticks) \n",
    "    ax1.set_xticklabels(xlabels, rotation=45, ha='right')\n",
    "    ax2.set(xlabel=\"Date\", ylabel=\"Fatalities\")\n",
    "    ax2.set_xticks(xticks) \n",
    "    ax2.set_xticklabels(xlabels, rotation=45, ha='right')\n",
    "\n",
    "    # Chart titles\n",
    "    ax1.set_title(\"COVID-19 Confirmed Cases (Actual)\")\n",
    "    ax2.set_title(\"COVID-19 Fatalities (Actual)\")\n",
    "\n",
    "    # Confirmed Cases Line Chart\n",
    "    c_labels = ()\n",
    "    c_counter = 0\n",
    "\n",
    "    for i in c_list:\n",
    "        ax1.plot(days, y_confirmed[c_counter], \n",
    "                 label = c_list, \n",
    "                 color = color_index[i], linestyle = '-')\n",
    "\n",
    "        c_labels += (i,)\n",
    "        c_counter += 1\n",
    "\n",
    "    # Fatalities Cases Line Chart\n",
    "    f_labels = ()\n",
    "    f_counter = 0\n",
    "    for i in f_list:\n",
    "        ax2.plot(days, y_fatalities[f_counter], \n",
    "                 label = f_list, \n",
    "                 color = color_index[i], linestyle = '-')\n",
    "\n",
    "        f_labels += (i,)\n",
    "        f_counter += 1\n",
    "\n",
    "    # Legends and chart style    \n",
    "    ax1.legend(c_labels, loc='best')\n",
    "    ax2.legend(f_labels, loc='best')\n",
    "    ax1.grid(axis='y'), ax2.grid(axis='y')\n",
    "\n",
    "    # Save Image\n",
    "    plt.savefig(output_file)\n",
    "    plt.tight_layout()\n",
    "    plt.show()"
   ]
  },
  {
   "cell_type": "markdown",
   "metadata": {},
   "source": [
    "### Actual Spread (by Countries)"
   ]
  },
  {
   "cell_type": "code",
   "execution_count": null,
   "metadata": {},
   "outputs": [],
   "source": [
    "saved_img = os.path.join('images','countries_before.png')\n",
    "chart_doubles(top_confirmed_df, top_fatalities_df, countries_color, saved_img)"
   ]
  },
  {
   "cell_type": "code",
   "execution_count": null,
   "metadata": {},
   "outputs": [],
   "source": [
    "def chart_single(df, output_file):\n",
    "\n",
    "    # x-axis\n",
    "    dates = df.columns.tolist()\n",
    "    days = range(len(dates))\n",
    "\n",
    "    # y-axis\n",
    "    regions = df.index                  # list of regions\n",
    "    top_confirmed = df.values.tolist()  # total confirmed cases\n",
    "\n",
    "    fig, ax = plt.subplots(figsize = (9,6))\n",
    "    plt.title(\"COVID-19 Confirmed Cases (by Region)\")\n",
    "    plt.xlabel(\"Date\")\n",
    "    plt.ylabel(\"Confirmed Cases\")\n",
    "\n",
    "    xticks = [day*7 for day in days]\n",
    "    xlabels = dates[0::7]\n",
    "    plt.xticks(xticks, xlabels, rotation=45)\n",
    "\n",
    "    mcolor = ['r','y','b','g','c','k','m']\n",
    "    counter = 0\n",
    "    region_labels = ()\n",
    "\n",
    "    for region in regions:\n",
    "        ax.plot(days, top_confirmed[counter], label = regions, color = mcolor[counter], linestyle = '-')\n",
    "\n",
    "        region_labels += (region,)\n",
    "        counter += 1\n",
    "\n",
    "        if counter == len(regions):\n",
    "            break\n",
    "\n",
    "    plt.legend(region_labels, loc='best')            \n",
    "    plt.grid(axis='y')\n",
    "    plt.savefig(output_file)\n",
    "    plt.tight_layout()\n",
    "    plt.show()"
   ]
  },
  {
   "cell_type": "markdown",
   "metadata": {},
   "source": [
    "### Actual Spread (by Regions)"
   ]
  },
  {
   "cell_type": "code",
   "execution_count": null,
   "metadata": {},
   "outputs": [],
   "source": [
    "# chart_single(confirmed_r_df, \"images/confirmed_regions.png\")\n",
    "\n",
    "saved_img = os.path.join('images','regions_before.png')\n",
    "chart_doubles(confirmed_r_df, fatalities_r_df, regions_color, saved_img)"
   ]
  },
  {
   "cell_type": "markdown",
   "metadata": {},
   "source": [
    "## Charting Actual Spread Since First Day"
   ]
  },
  {
   "cell_type": "code",
   "execution_count": null,
   "metadata": {},
   "outputs": [],
   "source": [
    "# First Day Values\n",
    "def first_day(df, country):\n",
    "    row = list(df.loc[df.index == country].values[0])\n",
    "    col = next((i for i, j in enumerate(row) if j.any()), None)     \n",
    "    first_day = df.columns[col]\n",
    "    return first_day\n",
    "\n",
    "print(first_day(top_confirmed_df, \"Italy\"))\n",
    "print(first_day(top_fatalities_df, \"Italy\"))"
   ]
  },
  {
   "cell_type": "code",
   "execution_count": null,
   "metadata": {},
   "outputs": [],
   "source": [
    "# New dataframes with all non-zero values at beginning\n",
    "def first_day_df(df):\n",
    "    dates = df.columns.tolist()\n",
    "    days = range(len(dates))\n",
    "    \n",
    "    new_df = pd.DataFrame(columns=days)\n",
    "\n",
    "    countries = df.index              # list of countries\n",
    "    for country in countries:\n",
    "        # Grab the country's row\n",
    "        row = list(df.loc[df.index == country].values[0])\n",
    "        # Grab the column index of first non-zero value\n",
    "        col = next((i for i, j in enumerate(row) if j.any()), None)     \n",
    "        # Calculate date\n",
    "        first_day = df.columns[col]\n",
    "        # Reset first day\n",
    "        row = row[col:] + row[:col]\n",
    "        # New rearranged dataframe\n",
    "        new_df = new_df.append([row])\n",
    "\n",
    "    # Same countries indexed\n",
    "    new_df.index = df.index\n",
    "    new_df = new_df.replace(0,np.NaN)\n",
    "    \n",
    "    return new_df"
   ]
  },
  {
   "cell_type": "markdown",
   "metadata": {},
   "source": [
    "### Actual Spread Since First Day (by Countries)"
   ]
  },
  {
   "cell_type": "code",
   "execution_count": null,
   "metadata": {},
   "outputs": [],
   "source": [
    "# Confirmed Cases Since First Day\n",
    "first_confirmed_df = first_day_df(top_confirmed_df)\n",
    "\n",
    "# Fatalities Since First Day\n",
    "first_fatalities_df = first_day_df(top_fatalities_df)\n",
    "\n",
    "# Charts\n",
    "saved_img = os.path.join('images','countries_byday.png')\n",
    "chart_doubles(first_confirmed_df, first_fatalities_df, countries_color, saved_img)"
   ]
  },
  {
   "cell_type": "markdown",
   "metadata": {},
   "source": [
    "### Actual Spread (by Regions)"
   ]
  },
  {
   "cell_type": "code",
   "execution_count": null,
   "metadata": {},
   "outputs": [],
   "source": [
    "# chart_single(fatalities_r_df, \"images/fatalities_regions.png\")\n",
    "\n",
    "first_confirmed_r_df = first_day_df(confirmed_r_df)\n",
    "first_fatalities_r_df = first_day_df(fatalities_r_df)\n",
    "\n",
    "saved_img = os.path.join('images','regions_byday.png')\n",
    "chart_doubles(first_confirmed_r_df, first_fatalities_r_df, regions_color, saved_img)"
   ]
  },
  {
   "cell_type": "markdown",
   "metadata": {},
   "source": [
    "## Charting Predicted COVID-19 Spread"
   ]
  },
  {
   "cell_type": "code",
   "execution_count": null,
   "metadata": {},
   "outputs": [],
   "source": [
    "# Installations you may need to run this notebook\n",
    "# !pip install keras\n",
    "# !pip install tensorflow\n",
    "# !pip install sklearn --upgrade\n",
    "# !pip install joblib\n",
    "\n",
    "# from sklearn.linear_model import LinearRegression\n",
    "# from sklearn.preprocessing import PolynomialFeatures\n",
    "from sklearn.metrics import mean_squared_error, r2_score\n",
    "import numpy.polynomial.polynomial as poly\n",
    "from scipy.optimize import curve_fit"
   ]
  },
  {
   "cell_type": "markdown",
   "metadata": {},
   "source": [
    "### Prediction Period"
   ]
  },
  {
   "cell_type": "code",
   "execution_count": null,
   "metadata": {},
   "outputs": [],
   "source": [
    "# Prediction Dates\n",
    "test_data = os.path.join('resources','test.csv')\n",
    "test_df = pd.read_csv(test_data)\n",
    "\n",
    "# Start Date\n",
    "start = test_df['Date'].min()\n",
    "start = dt.strptime(start, '%Y-%m-%d')\n",
    "\n",
    "# End Date\n",
    "end = test_df['Date'].max()\n",
    "end = dt.strptime(end, '%Y-%m-%d')\n",
    "\n",
    "# Date Range\n",
    "n_days = (end-start).days\n",
    "n_days"
   ]
  },
  {
   "cell_type": "markdown",
   "metadata": {},
   "source": [
    "### Logarithmic Regression Model \n",
    "To account for the exponential rate of infection."
   ]
  },
  {
   "cell_type": "code",
   "execution_count": null,
   "metadata": {},
   "outputs": [],
   "source": [
    "# # Split into Test and Train data\n",
    "# from sklearn.model_selection import train_test_split\n",
    "# X_train, X_test, y_train, y_test = train_test_split(X, y, random_state=1)\n",
    "\n",
    "# # Scale the data\n",
    "# from sklearn.preprocessing import StandardScaler\n",
    "# X_scaler = StandardScaler().fit(X_train)\n",
    "# y_scaler = StandardScaler().fit(y_train)\n",
    "\n",
    "# # Transform the training and test data\n",
    "# X_train_scaled = X_scaler.transform(X_train)\n",
    "# X_test_scaled = X_scaler.transform(X_test)\n",
    "# y_train_scaled = y_scaler.transform(y_train)\n",
    "# y_test_scaled = y_scaler.transform(y_test)"
   ]
  },
  {
   "cell_type": "code",
   "execution_count": null,
   "metadata": {},
   "outputs": [],
   "source": [
    "# from sklearn.linear_model import LinearRegression\n",
    "# from sklearn.preprocessing import PolynomialFeatures\n",
    "# from sklearn.metrics import mean_squared_error, r2_score\n",
    "\n",
    "# degree = 2\n",
    "\n",
    "# # Scale and transform the data\n",
    "# polyscale = PolynomialFeatures(degree=degree)  \n",
    "# X_train_poly = polyscale.fit_transform(X_train_scaled)  \n",
    "# X_test_poly = polyscale.fit_transform(X_test_scaled)  \n",
    "\n",
    "# # Create the model\n",
    "# polyline = LinearRegression()  \n",
    "\n",
    "# # Train the model\n",
    "# polyline.fit(X_train_poly, y_train_scaled)\n",
    "\n",
    "# # plt.plot(x_sorted, y_sorted, c=\"red\")"
   ]
  },
  {
   "cell_type": "code",
   "execution_count": null,
   "metadata": {},
   "outputs": [],
   "source": [
    "i_days = n_days - 1   # adjust for index\n",
    "degree = 1            # 2 to adjust for a country's preventive measures such as social distancing and contact tracing\n",
    "\n",
    "dates = first_confirmed_df.columns.tolist()\n",
    "days = range(len(dates))\n",
    "\n",
    "# y-axis: Confirmed Cases\n",
    "c_countries = first_confirmed_df.index          # list of countries\n",
    "# y_confirmed = df1.values.tolist()   # total confirmed cases\n",
    "\n",
    "# y-axis: Fatalities\n",
    "f_countries = first_fatalities_df.index          # list of countries\n",
    "# y_fatalities = df2.values.tolist()   # total fatalities\n",
    "\n",
    "# Subplots\n",
    "fig, (ax1, ax2) = plt.subplots(nrows=1, ncols=2, figsize = (15,5))\n",
    "\n",
    "# x-axis labels\n",
    "xticks = [day*7 for day in days]   # per week\n",
    "xlabels = dates[0::7]\n",
    "    \n",
    "# x-axis labels\n",
    "ax1.set(xlabel=\"Date\", ylabel=\"Confirmed Cases\")\n",
    "ax1.set_xticks(xticks) \n",
    "ax1.set_xticklabels(xlabels, rotation=45, ha='right')\n",
    "ax2.set(xlabel=\"Date\", ylabel=\"Fatalities\")\n",
    "ax2.set_xticks(xticks) \n",
    "ax2.set_xticklabels(xlabels, rotation=45, ha='right')\n",
    "\n",
    "# Chart titles\n",
    "ax1.set_title(\"COVID-19 Confirmed Cases (Predictive)\")\n",
    "ax2.set_title(\"COVID-19 Fatalities (Predictive)\")\n",
    "\n",
    "# Confirmed Cases Line Chart\n",
    "c_labels = ()\n",
    "c_counter = 0\n",
    "\n",
    "first_confirmed = pd.DataFrame(columns=days)\n",
    "\n",
    "for country in c_countries:\n",
    "\n",
    "#     tmp_df = top_confirmed_df.replace(np.NaN,10**-10)  # hack for resolving log(0)\n",
    "    y = top_confirmed_df.loc[top_confirmed_df.index == country].values[0]\n",
    "   \n",
    "    c_polynomial = np.poly1d(np.polyfit(days, np.log(y), degree))\n",
    "    c_polyline = np.linspace(0, days[-1], 1000)\n",
    "#     c_polyline = np.linspace(days[-1], days[-1]+n_days, 1000)\n",
    "    ax1.plot(c_polyline, c_polynomial(c_polyline), \n",
    "             c = countries_color[country], \n",
    "             label = c_countries)\n",
    "\n",
    "#     model_score = r2_score(y, c_polynomial(days))\n",
    "#     prediction = round(c_polynomial(n_days), -3)  # rounded to 1000's\n",
    "\n",
    "    c_labels += (country,)\n",
    "    c_counter += 1\n",
    "        \n",
    "\n",
    "# Fatalities Line Chart\n",
    "f_labels = ()\n",
    "f_counter = 0\n",
    "\n",
    "for country in f_countries:\n",
    "    \n",
    "#     tmp_df = top_fatalities_df.replace(np.NaN,10**-10)  # hack for resolving log(0)\n",
    "    y = top_fatalities_df.loc[top_fatalities_df.index == country].values[0]\n",
    "    \n",
    "    f_polynomial = np.poly1d(np.polyfit(days, np.log(y), degree))\n",
    "    f_polyline = np.linspace(0, days[-1], 1000)\n",
    "#     f_polyline = np.linspace(days[-1], days[-1]+n_days, 1000)\n",
    "    ax2.plot(f_polyline, f_polynomial(f_polyline), \n",
    "             c = countries_color[country], \n",
    "             label = f_countries)\n",
    "\n",
    "#     model_score = r2_score(y, f_polynomial(days))\n",
    "#     prediction = round(f_polynomial(n_days), -3)  # rounded to 1000's\n",
    "    \n",
    "    f_labels += (country,)\n",
    "    f_counter += 1    \n",
    "    \n",
    "# Legends and chart style    \n",
    "ax1.legend(c_labels, loc='best')\n",
    "ax2.legend(f_labels, loc='best')\n",
    "ax1.grid(axis='y'), ax2.grid(axis='y')\n",
    "\n",
    "# Save Image\n",
    "# plt.savefig(\"images/model_polynomial.png\")\n",
    "plt.tight_layout()\n",
    "plt.show()"
   ]
  },
  {
   "cell_type": "code",
   "execution_count": null,
   "metadata": {},
   "outputs": [],
   "source": [
    "# Mean recovery rate\n",
    "# recovery_rate = 1/38\n",
    "first_recovered_df = first_day_df(recovered_df)\n",
    "\n",
    "top_recovered_df = first_recovered_df.loc[first_recovered_df.index.isin(top_confirmed_df.index)]\n",
    "top_recovered_df\n",
    "\n",
    "# test = top_recovered_df[1].values[0] - top_recovered_df[0].values[0]\n",
    "# test = top_recovered_df.iloc[0,1] - top_recovered_df.iloc[0,0]\n",
    "# print(test)\n"
   ]
  },
  {
   "cell_type": "markdown",
   "metadata": {},
   "source": [
    "### SIR Model\n",
    "To account for recovered/removed population."
   ]
  },
  {
   "cell_type": "markdown",
   "metadata": {},
   "source": [
    "#### Country's Population Data"
   ]
  },
  {
   "cell_type": "code",
   "execution_count": null,
   "metadata": {},
   "outputs": [],
   "source": [
    "def get_population(country_code, indicator_code):\n",
    "\n",
    "    # API Call\n",
    "    url = f\"https://api.worldbank.org/v2/country/{country_code}/indicator/{indicator_code}?format=json\"\n",
    "    response = requests.get(url).json()\n",
    "    pages = response[0]['pages']\n",
    "    results = response[1]\n",
    "\n",
    "    # Loop through results\n",
    "    for page in range(pages):\n",
    "        for i in range(len(results)):\n",
    "\n",
    "            population = results[i]['value']\n",
    "            if population is None:\n",
    "                pass\n",
    "            else:\n",
    "                return population\n",
    "                # Only the most recent value, then break\n",
    "                break"
   ]
  },
  {
   "cell_type": "code",
   "execution_count": null,
   "metadata": {},
   "outputs": [],
   "source": [
    "country_region = 'China'\n",
    "contact_rate = 0.1\n",
    "recovery_rate = 1/38\n",
    "\n",
    "country_code = regions_df[regions_df['Country_Region'].str.contains(country_region)]['Country_Code'].values[0]\n",
    "population = get_population(country_code, 'SP.POP.TOTL')\n",
    "\n",
    "# By Country\n",
    "pop_confirmed = int(confirmed_df.loc[confirmed_df.index==country_region].values[0][-1])\n",
    "pop_recovered = int(recovered_df.loc[recovered_df.index==country_region].values[0][-1])\n",
    "pop_fatalities = int(fatalities_df.loc[fatalities_df.index==country_region].values[0][-1])\n",
    "pop_removed = pop_recovered + pop_fatalities\n",
    "pop_susceptible = population - pop_confirmed - pop_removed\n"
   ]
  },
  {
   "cell_type": "markdown",
   "metadata": {},
   "source": [
    "#### SIR Model Chart"
   ]
  },
  {
   "cell_type": "code",
   "execution_count": null,
   "metadata": {},
   "outputs": [],
   "source": [
    "from scipy.integrate import odeint\n",
    "import matplotlib.dates as mdates\n",
    "\n",
    "# THE DATA\n",
    "# Total population, N.\n",
    "N = population\n",
    "# Initial number of infected and recovered individuals, I0 and R0.\n",
    "I0, R0 = pop_confirmed, pop_removed\n",
    "# Everyone else, S0, is susceptible to infection initially.\n",
    "S0 = N - I0 - R0\n",
    "# Contact rate, beta, and mean recovery rate, gamma, (in 1/days).\n",
    "beta, gamma = contact_rate, recovery_rate\n",
    "# A grid of time points (in days)\n",
    "numdays = 365   # fixed, do not change\n",
    "t = np.linspace(0, numdays, numdays)\n",
    "\n",
    "# first day of confirmed case\n",
    "first_day = first_day(confirmed_df, country_region)\n",
    "base = dt.strptime(first_day, '%Y-%m-%d')   \n",
    "date_list = [base - datetime.timedelta(days=x) for x in range(0, numdays)]\n",
    "date_list.reverse()\n",
    "\n",
    "# The SIR model differential equations.\n",
    "def deriv(y, t, N, beta, gamma):\n",
    "    S, I, R = y\n",
    "    dSdt = -beta * S * I / N\n",
    "    dIdt = beta * S * I / N - gamma * I\n",
    "    dRdt = gamma * I\n",
    "    return dSdt, dIdt, dRdt\n",
    "\n",
    "# Initial conditions vector\n",
    "y0 = S0, I0, R0\n",
    "# Integrate the SIR equations over the time grid, t.\n",
    "ret = odeint(deriv, y0, t, args=(N, beta, gamma))\n",
    "S, I, R = ret.T\n",
    "\n",
    "# Plot the data on three separate curves for S(t), I(t) and R(t)\n",
    "fig = plt.figure(figsize = (9,6))\n",
    "ax = fig.add_subplot()\n",
    "\n",
    "ax.set_title(f'COVID-19 SIR Model (for {country_region})')\n",
    "ax.set_xlabel('2020')\n",
    "ax.set_ylabel('Population (M)')\n",
    "\n",
    "locator = mdates.MonthLocator()\n",
    "fmt = mdates.DateFormatter('%b')\n",
    "\n",
    "X = plt.gca().xaxis\n",
    "X.set_major_locator(locator)\n",
    "X.set_major_formatter(fmt)\n",
    "\n",
    "ax.plot(date_list, S/1000000, 'b', label='Susceptible')\n",
    "ax.plot(date_list, I/1000000, 'r', label='Infected')\n",
    "ax.plot(date_list, R/1000000, 'g', label='Recovered with immunity')\n",
    "\n",
    "# for spine in ('top', 'right', 'bottom', 'left'):\n",
    "#     ax.spines[spine].set_visible(False)\n",
    "\n",
    "plt.legend(loc='best')\n",
    "plt.grid(axis='both', linestyle='dashed')\n",
    "\n",
    "plt.savefig(\"images/model_sir.png\")\n",
    "plt.show()\n",
    "\n",
    "print(f'''Population, {country_region}: {population/1000000} M\n",
    "    Infected: {pop_confirmed}   {pop_confirmed/population*100}%,\n",
    "    Removed: {pop_removed}   {pop_removed/population*100}%,\n",
    "    Susceptible: {pop_susceptible}   {pop_susceptible/population*100}%\n",
    "''')\n",
    "print(f'Contact Rate: {contact_rate}, Recovery Rate: {recovery_rate}')\n",
    "print(f'As of first day: {first_day}')"
   ]
  },
  {
   "cell_type": "markdown",
   "metadata": {},
   "source": [
    "## Population Demographics"
   ]
  },
  {
   "cell_type": "code",
   "execution_count": 350,
   "metadata": {},
   "outputs": [],
   "source": [
    "# file = os.path.join('resources','demographics','population.csv')\n",
    "# population_df = pd.read_csv(file)\n",
    "\n",
    "# test = population_df.loc[population_df['Country_Code']=='ITA']\n",
    "# test"
   ]
  },
  {
   "cell_type": "markdown",
   "metadata": {},
   "source": [
    "## Pre-existing Health Conditions/Burden of Disease"
   ]
  },
  {
   "cell_type": "code",
   "execution_count": 351,
   "metadata": {},
   "outputs": [],
   "source": [
    "# Source: https://ourworldindata.org/burden-of-disease\n",
    "# Global Burden of Disease (GBD) \n",
    "# 1. Communicable (SH.DTH.COMM.ZS) + Non-communicable (SH.DTH.NCOM.ZS)\n",
    "\n",
    "# Non-communicable Disease (NCD)\n",
    "# 2. Respiratory, (Digestive, Diabetes, Cardiovascular)\n",
    "\n",
    "# Disability-Adjusted Life Year (DALY) \n",
    "\n",
    "# NCD Data\n",
    "ncd_data = os.path.join('resources','health','burden-of-disease-by-ncds.csv')\n",
    "ncd_df = pd.read_csv(ncd_data)\n",
    "ncd_df = ncd_df.loc[ncd_df['Year']==2017]\n",
    "ncd_df = ncd_df.drop(['Year'], axis=1)\n",
    "ncd_df.rename(columns={'Entity': 'Country_Region', 'Code': 'Country_Code'}, inplace=True)\n",
    "# ncd_df.head()"
   ]
  },
  {
   "cell_type": "code",
   "execution_count": 352,
   "metadata": {},
   "outputs": [],
   "source": [
    "# pop_list = []\n",
    "\n",
    "# for i in range(len(gbd_df)):\n",
    "#     try:\n",
    "#         country_code = gbd_df.iloc[i,0]\n",
    "#         pop_country = get_population(country_code, 'SP.POP.TOTL')\n",
    "#         pop_list.append(pop_country)\n",
    "#     except:\n",
    "#         pass\n",
    "# pop_list"
   ]
  },
  {
   "cell_type": "markdown",
   "metadata": {},
   "source": [
    "### Respiratory DALYs of Countries with COVID-19"
   ]
  },
  {
   "cell_type": "code",
   "execution_count": 353,
   "metadata": {},
   "outputs": [
    {
     "data": {
      "image/png": "[encoded data removed]",
      "text/plain": [
       "<Figure size 640x480 with 1 Axes>"
      ]
     },
     "metadata": {},
     "output_type": "display_data"
    }
   ],
   "source": [
    "country_list = top_confirmed_df.index\n",
    "country_list = country_list.insert(0,'South Korea')\n",
    "\n",
    "# Respiratory Data Only\n",
    "resp_df = gbd_df.iloc[:,[0,1,4]]\n",
    "barchart_df = resp_df.loc[resp_df['Country_Region'].isin(country_list)]\n",
    "\n",
    "x = barchart_df['Country_Region']\n",
    "y = barchart_df['Respiratory diseases (DALYs lost)']\n",
    "\n",
    "plt.title('Respiratory DALYs of Countries with COVID-19')\n",
    "plt.ylabel('DALYs')\n",
    "\n",
    "plt.bar(x, y, align='center')\n",
    "plt.xticks(range(len(x)), x, rotation=45, ha='right')\n",
    "\n",
    "plt.show()"
   ]
  },
  {
   "cell_type": "markdown",
   "metadata": {},
   "source": [
    "### Respiratory DALYs of Countries (Top 10)"
   ]
  },
  {
   "cell_type": "code",
   "execution_count": 354,
   "metadata": {},
   "outputs": [],
   "source": [
    "resp_df = pd.merge(regions_df, resp_df, on=['Country_Code','Country_Region'], how='right')\n",
    "resp_df.dropna(inplace=True)\n",
    "resp_df = resp_df.sort_values(['Respiratory diseases (DALYs lost)'], ascending=False)\n",
    "# resp_df.head()"
   ]
  },
  {
   "cell_type": "code",
   "execution_count": 355,
   "metadata": {},
   "outputs": [
    {
     "data": {
      "image/png": "[encoded data removed]",
      "text/plain": [
       "<Figure size 640x480 with 1 Axes>"
      ]
     },
     "metadata": {},
     "output_type": "display_data"
    }
   ],
   "source": [
    "barchart_df = resp_df.iloc[0:10,:]\n",
    "\n",
    "x = barchart_df['Country_Region']\n",
    "y = barchart_df['Respiratory diseases (DALYs lost)']\n",
    "\n",
    "plt.title('Respiratory DALYs by Country')\n",
    "plt.ylabel('DALYs')\n",
    "\n",
    "plt.bar(x, y, align='center')\n",
    "plt.xticks(range(len(x)), x, rotation=45, ha='right')\n",
    "\n",
    "plt.show()"
   ]
  },
  {
   "cell_type": "markdown",
   "metadata": {},
   "source": [
    "### Non-Communicable Disease DALYs of Countries (Top 10)"
   ]
  },
  {
   "cell_type": "code",
   "execution_count": 379,
   "metadata": {},
   "outputs": [],
   "source": [
    "regions_df.replace('Korea, Rep.', 'South Korea', inplace=True)\n",
    "regions_df.replace('Iran, Islamic Rep.', 'Iran', inplace=True)\n",
    "\n",
    "dis_data = os.path.join('resources','health','total-disease-burden-by-cause.csv')\n",
    "dis_df = pd.read_csv(dis_data)\n",
    "dis_df = dis_df.loc[dis_df['Year']==2017]\n",
    "dis_df = dis_df.drop(['Year'], axis=1)\n",
    "dis_df.rename(columns={'Entity': 'Country_Region', 'Code': 'Country_Code'}, inplace=True)\n",
    "# dis_df.head()"
   ]
  },
  {
   "cell_type": "code",
   "execution_count": 380,
   "metadata": {},
   "outputs": [],
   "source": [
    "ncd_df2 = dis_df.iloc[:,[0,1,2]]\n",
    "ncd_df2 = pd.merge(regions_df, ncd_df2, on=['Country_Code','Country_Region'], how='right')\n",
    "ncd_df2.dropna(inplace=True)\n",
    "ncd_df2 = ncd_df2.sort_values(['Non-communicable diseases (NCDs) (DALYs lost)'], ascending=False)\n",
    "# ncd_df2.head()"
   ]
  },
  {
   "cell_type": "code",
   "execution_count": 382,
   "metadata": {},
   "outputs": [
    {
     "data": {
      "image/png": "[encoded data removed]",
      "text/plain": [
       "<Figure size 640x480 with 1 Axes>"
      ]
     },
     "metadata": {},
     "output_type": "display_data"
    }
   ],
   "source": [
    "country_list = top_confirmed_df.index\n",
    "country_list = country_list.insert(0,'South Korea')\n",
    "\n",
    "barchart_df = ncd_df2.iloc[0:10,:]\n",
    "\n",
    "x = barchart_df['Country_Region']\n",
    "y = barchart_df['Non-communicable diseases (NCDs) (DALYs lost)']\n",
    "\n",
    "plt.title('NCD DALYs by Country')\n",
    "plt.ylabel('DALYs')\n",
    "\n",
    "plt.bar(x, y, align='center')\n",
    "plt.xticks(range(len(x)), x, rotation=45, ha='right')\n",
    "\n",
    "plt.show()"
   ]
  },
  {
   "cell_type": "markdown",
   "metadata": {},
   "source": [
    "### NCD DALYs of Countries with COVID-19"
   ]
  },
  {
   "cell_type": "code",
   "execution_count": 384,
   "metadata": {},
   "outputs": [
    {
     "data": {
      "image/png": "[encoded data removed]",
      "text/plain": [
       "<Figure size 640x480 with 1 Axes>"
      ]
     },
     "metadata": {},
     "output_type": "display_data"
    }
   ],
   "source": [
    "# Respiratory Data Only\n",
    "barchart_df = ncd_df2.loc[ncd_df2['Country_Region'].isin(country_list)]\n",
    "\n",
    "x = barchart_df['Country_Region']\n",
    "y = barchart_df['Non-communicable diseases (NCDs) (DALYs lost)']\n",
    "\n",
    "plt.title('NCD DALYs of Countries with COVID-19')\n",
    "plt.ylabel('DALYs')\n",
    "\n",
    "plt.bar(x, y, align='center')\n",
    "plt.xticks(range(len(x)), x, rotation=45, ha='right')\n",
    "\n",
    "plt.show()"
   ]
  },
  {
   "cell_type": "code",
   "execution_count": null,
   "metadata": {},
   "outputs": [],
   "source": []
  }
 ],
 "metadata": {
  "kernelspec": {
   "display_name": "Python 3",
   "language": "python",
   "name": "python3"
  },
  "language_info": {
   "codemirror_mode": {
    "name": "ipython",
    "version": 3
   },
   "file_extension": ".py",
   "mimetype": "text/x-python",
   "name": "python",
   "nbconvert_exporter": "python",
   "pygments_lexer": "ipython3",
   "version": "3.6.8"
  }
 },
 "nbformat": 4,
 "nbformat_minor": 2
}
