{
 "cells": [
  {
   "cell_type": "markdown",
   "metadata": {},
   "source": [
    "## Plotting the Charts (health.html)"
   ]
  },
  {
   "cell_type": "code",
   "execution_count": null,
   "metadata": {},
   "outputs": [],
   "source": [
    "import pandas as pd\n",
    "import numpy as np\n",
    "import matplotlib.pyplot as plt\n",
    "import os"
   ]
  },
  {
   "cell_type": "code",
   "execution_count": null,
   "metadata": {},
   "outputs": [],
   "source": [
    "file = os.path.join('demographics','regions.csv')\n",
    "regions_df = pd.read_csv(file)\n",
    "\n",
    "file = os.path.join('demographics','population.csv')\n",
    "population_df = pd.read_csv(file)\n",
    "\n",
    "file = os.path.join('health','diseases.csv')\n",
    "diseases_df = pd.read_csv(file)"
   ]
  },
  {
   "cell_type": "markdown",
   "metadata": {},
   "source": [
    "### X-Values: Population, Health"
   ]
  },
  {
   "cell_type": "code",
   "execution_count": null,
   "metadata": {},
   "outputs": [],
   "source": [
    "x_values = pd.merge(diseases_df, population_df, on=['Country_Code'], how='inner')\n",
    "x_values.head()"
   ]
  },
  {
   "cell_type": "markdown",
   "metadata": {},
   "source": [
    "### Y-Values: Confirmed, Fatalities (All Countries)"
   ]
  },
  {
   "cell_type": "code",
   "execution_count": null,
   "metadata": {},
   "outputs": [],
   "source": [
    "file = os.path.join('cases','all.ipynb')\n",
    "%run '{file}'"
   ]
  },
  {
   "cell_type": "code",
   "execution_count": null,
   "metadata": {},
   "outputs": [],
   "source": [
    "def scatter_all(y_df, output_file):\n",
    "    y_values = y_df.iloc[:,[21]]\n",
    "    y_values.dropna(inplace=True)\n",
    "    y_values.reset_index(inplace=True)\n",
    "    y_values = pd.merge(regions_df, y_values, on=['Country_Region'], how='inner')\n",
    "\n",
    "    merged_df = pd.merge(y_values, x_values, how='inner')\n",
    "\n",
    "    selected_df = merged_df.iloc[:,[3,6]]\n",
    "    selected_df.dropna(inplace=True)\n",
    "\n",
    "    x_scatter = selected_df.iloc[:,0]\n",
    "    y_scatter = selected_df.iloc[:,1]\n",
    "    file = os.path.join('..', 'images', output_file)\n",
    "\n",
    "    fig, ax = plt.subplots(figsize = (9,6))\n",
    "    plt.scatter(x_scatter, y_scatter)\n",
    "    plt.title('Pop Density (per sqkm)', fontsize=16)\n",
    "    plt.ylabel('Confirmed', fontsize=14)\n",
    "    ax.tick_params(axis='both', labelsize=14)\n",
    "\n",
    "    plt.savefig(file)\n",
    "    plt.tight_layout()\n",
    "    plt.show()\n",
    "\n",
    "scatter_all(first_confirmed_all, 'scatter_popdensity.png')"
   ]
  },
  {
   "cell_type": "code",
   "execution_count": null,
   "metadata": {},
   "outputs": [],
   "source": [
    "# scatter_all(first_fatalities_all, 'scatter_popdensity.png')"
   ]
  },
  {
   "cell_type": "markdown",
   "metadata": {},
   "source": [
    "## Machine Learning Test"
   ]
  },
  {
   "cell_type": "code",
   "execution_count": null,
   "metadata": {},
   "outputs": [],
   "source": [
    "selected_features = [\n",
    "#      'Non-communicable diseases (NCDs) (DALYs lost)',\n",
    "#      'Respiratory diseases (DALYs lost)',\n",
    "     'Pop Density (per sqkm)',\n",
    "#      'Ages 70-79',\n",
    "#      'Ages 80+',\n",
    "#      'Health Expenditure (USD)',\n",
    "#      'Hospital beds (per 1,000)',\n",
    "]\n",
    "\n",
    "# Initialize features array\n",
    "X = []\n",
    "\n",
    "# For each row in the df\n",
    "for row in range(len(merged_df)):\n",
    "\n",
    "    point = []\n",
    "\n",
    "    # Append each indicator value to the data point\n",
    "    for i in range(len(selected_features)):\n",
    "        point.append(merged_df[selected_features[i]][row])\n",
    "        \n",
    "    # Append the row to the features array\n",
    "    X.append(point)\n",
    "\n",
    "X"
   ]
  },
  {
   "cell_type": "code",
   "execution_count": null,
   "metadata": {},
   "outputs": [],
   "source": [
    "# Installations you may need to run this notebook\n",
    "# !pip install keras\n",
    "# !pip install tensorflow\n",
    "# !pip install sklearn --upgrade\n",
    "# !pip install joblib"
   ]
  },
  {
   "cell_type": "code",
   "execution_count": null,
   "metadata": {},
   "outputs": [],
   "source": [
    "X = np.array(X)\n",
    "\n",
    "y = np.array(selected_df.iloc[:,1])\n",
    "y = y.reshape(-1, 1)\n",
    "\n",
    "print(X.shape)\n",
    "print(y.shape)"
   ]
  },
  {
   "cell_type": "code",
   "execution_count": null,
   "metadata": {},
   "outputs": [],
   "source": [
    "from sklearn.model_selection import train_test_split\n",
    "X_train, X_test, y_train, y_test = train_test_split(X, y, random_state=42)\n",
    "\n",
    "from sklearn.preprocessing import StandardScaler\n",
    "X_scaler = StandardScaler().fit(X_train)\n",
    "y_scaler = StandardScaler().fit(y_train)\n",
    "\n",
    "# Transform the training and test data\n",
    "X_train_scaled = X_scaler.transform(X_train)\n",
    "X_test_scaled = X_scaler.transform(X_test)\n",
    "y_train_scaled = y_scaler.transform(y_train)\n",
    "y_test_scaled = y_scaler.transform(y_test)"
   ]
  },
  {
   "cell_type": "code",
   "execution_count": null,
   "metadata": {},
   "outputs": [],
   "source": [
    "from sklearn.linear_model import LinearRegression\n",
    "from sklearn.metrics import mean_squared_error, r2_score\n",
    "\n",
    "# Create the model using LinearRegression\n",
    "linear = LinearRegression()\n",
    "\n",
    "# Train the model\n",
    "linear.fit(X_train_scaled, y_train_scaled)\n",
    "\n",
    "# Use our model to make predictions\n",
    "predictions = linear.predict(X_test_scaled)\n",
    "\n",
    "# Score the model\n",
    "training_score = model.score(X_train_scaled, y_train_scaled)\n",
    "testing_score = model.score(X_test_scaled, y_test_scaled)\n",
    "r2 = linear.score(X_test_scaled, y_test_scaled)\n",
    "mse = mean_squared_error(y_test_scaled, predictions)\n",
    "\n",
    "print(f\"Training Score: {training_score}\")\n",
    "print(f\"Testing Score: {testing_score}\")\n",
    "print(f\"R2 Score: {r2}\")\n",
    "print(f\"Mean Squared Error (MSE): {mse}\")\n",
    "# print(f\"Linear Coefficient: {linear.coef_[0][0]}\")\n",
    "# print(f\"y-Axis Intercept: {linear.intercept_[0]}\")"
   ]
  },
  {
   "cell_type": "code",
   "execution_count": null,
   "metadata": {},
   "outputs": [],
   "source": []
  }
 ],
 "metadata": {
  "kernelspec": {
   "display_name": "Python 3",
   "language": "python",
   "name": "python3"
  },
  "language_info": {
   "codemirror_mode": {
    "name": "ipython",
    "version": 3
   },
   "file_extension": ".py",
   "mimetype": "text/x-python",
   "name": "python",
   "nbconvert_exporter": "python",
   "pygments_lexer": "ipython3",
   "version": "3.6.9"
  }
 },
 "nbformat": 4,
 "nbformat_minor": 2
}
