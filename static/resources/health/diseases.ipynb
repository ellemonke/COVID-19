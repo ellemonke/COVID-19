{
 "cells": [
  {
   "cell_type": "markdown",
   "metadata": {},
   "source": [
    "## Global Burden of Disease (GBD) \n",
    "Data Source: https://ourworldindata.org/burden-of-disease<br />\n",
    "Communicable Diseases (SH.DTH.COMM.ZS) + Non-communicable Diseases (SH.DTH.NCOM.ZS)<br />\n",
    "Disability-Adjusted Life Year (DALY) "
   ]
  },
  {
   "cell_type": "code",
   "execution_count": 2,
   "metadata": {},
   "outputs": [],
   "source": [
    "import pandas as pd\n",
    "import os\n",
    "import json\n",
    "import requests\n",
    "from pprint import pprint\n",
    "import warnings\n",
    "warnings.simplefilter('ignore')"
   ]
  },
  {
   "cell_type": "code",
   "execution_count": 15,
   "metadata": {},
   "outputs": [],
   "source": [
    "file = os.path.join('demographics','regions.csv')\n",
    "regions_df = pd.read_csv(file)"
   ]
  },
  {
   "cell_type": "code",
   "execution_count": null,
   "metadata": {},
   "outputs": [],
   "source": [
    "def get_indicator(country_code, indicator_code):\n",
    "\n",
    "    # API Call\n",
    "    url = f\"https://api.worldbank.org/v2/country/{country_code}/indicator/{indicator_code}?format=json\"\n",
    "    response = requests.get(url).json()\n",
    "    pages = response[0]['pages']\n",
    "    results = response[1]\n",
    "\n",
    "    # Loop through results\n",
    "#     for page in range(pages):\n",
    "    for i in range(len(results)):\n",
    "\n",
    "        indicator = results[i]['value']\n",
    "        if indicator is None:\n",
    "            pass\n",
    "        else:\n",
    "            return indicator\n",
    "            # Only the most recent value, then break\n",
    "            break"
   ]
  },
  {
   "cell_type": "markdown",
   "metadata": {},
   "source": [
    "### Non-communicable Diseases (NCD)"
   ]
  },
  {
   "cell_type": "code",
   "execution_count": 19,
   "metadata": {},
   "outputs": [
    {
     "data": {
      "text/html": [
       "<div>\n",
       "<style scoped>\n",
       "    .dataframe tbody tr th:only-of-type {\n",
       "        vertical-align: middle;\n",
       "    }\n",
       "\n",
       "    .dataframe tbody tr th {\n",
       "        vertical-align: top;\n",
       "    }\n",
       "\n",
       "    .dataframe thead th {\n",
       "        text-align: right;\n",
       "    }\n",
       "</style>\n",
       "<table border=\"1\" class=\"dataframe\">\n",
       "  <thead>\n",
       "    <tr style=\"text-align: right;\">\n",
       "      <th></th>\n",
       "      <th>Code</th>\n",
       "      <th>Non-communicable diseases (NCDs) (DALYs lost)</th>\n",
       "    </tr>\n",
       "  </thead>\n",
       "  <tbody>\n",
       "    <tr>\n",
       "      <th>27</th>\n",
       "      <td>AFG</td>\n",
       "      <td>6.948558e+06</td>\n",
       "    </tr>\n",
       "    <tr>\n",
       "      <th>55</th>\n",
       "      <td>ALB</td>\n",
       "      <td>6.276270e+05</td>\n",
       "    </tr>\n",
       "    <tr>\n",
       "      <th>83</th>\n",
       "      <td>DZA</td>\n",
       "      <td>7.036442e+06</td>\n",
       "    </tr>\n",
       "    <tr>\n",
       "      <th>111</th>\n",
       "      <td>ASM</td>\n",
       "      <td>1.223452e+04</td>\n",
       "    </tr>\n",
       "    <tr>\n",
       "      <th>167</th>\n",
       "      <td>AND</td>\n",
       "      <td>1.682923e+04</td>\n",
       "    </tr>\n",
       "  </tbody>\n",
       "</table>\n",
       "</div>"
      ],
      "text/plain": [
       "    Code  Non-communicable diseases (NCDs) (DALYs lost)\n",
       "27   AFG                                   6.948558e+06\n",
       "55   ALB                                   6.276270e+05\n",
       "83   DZA                                   7.036442e+06\n",
       "111  ASM                                   1.223452e+04\n",
       "167  AND                                   1.682923e+04"
      ]
     },
     "execution_count": 19,
     "metadata": {},
     "output_type": "execute_result"
    }
   ],
   "source": [
    "gbds = pd.read_csv('total-disease-burden-by-cause.csv')\n",
    "gbds = gbds.loc[gbds['Year']==2017]\n",
    "ncds = gbds.iloc[:,[1,3]]\n",
    "ncds.dropna(inplace=True)\n",
    "ncds.head()"
   ]
  },
  {
   "cell_type": "markdown",
   "metadata": {},
   "source": [
    "### Respiratory Diseases"
   ]
  },
  {
   "cell_type": "code",
   "execution_count": 22,
   "metadata": {},
   "outputs": [
    {
     "data": {
      "text/html": [
       "<div>\n",
       "<style scoped>\n",
       "    .dataframe tbody tr th:only-of-type {\n",
       "        vertical-align: middle;\n",
       "    }\n",
       "\n",
       "    .dataframe tbody tr th {\n",
       "        vertical-align: top;\n",
       "    }\n",
       "\n",
       "    .dataframe thead th {\n",
       "        text-align: right;\n",
       "    }\n",
       "</style>\n",
       "<table border=\"1\" class=\"dataframe\">\n",
       "  <thead>\n",
       "    <tr style=\"text-align: right;\">\n",
       "      <th></th>\n",
       "      <th>Code</th>\n",
       "      <th>Respiratory diseases (DALYs lost)</th>\n",
       "    </tr>\n",
       "  </thead>\n",
       "  <tbody>\n",
       "    <tr>\n",
       "      <th>27</th>\n",
       "      <td>AFG</td>\n",
       "      <td>359121.716381</td>\n",
       "    </tr>\n",
       "    <tr>\n",
       "      <th>55</th>\n",
       "      <td>ALB</td>\n",
       "      <td>25151.250839</td>\n",
       "    </tr>\n",
       "    <tr>\n",
       "      <th>83</th>\n",
       "      <td>DZA</td>\n",
       "      <td>330359.109288</td>\n",
       "    </tr>\n",
       "    <tr>\n",
       "      <th>111</th>\n",
       "      <td>ASM</td>\n",
       "      <td>854.183539</td>\n",
       "    </tr>\n",
       "    <tr>\n",
       "      <th>167</th>\n",
       "      <td>AND</td>\n",
       "      <td>926.955330</td>\n",
       "    </tr>\n",
       "  </tbody>\n",
       "</table>\n",
       "</div>"
      ],
      "text/plain": [
       "    Code  Respiratory diseases (DALYs lost)\n",
       "27   AFG                      359121.716381\n",
       "55   ALB                       25151.250839\n",
       "83   DZA                      330359.109288\n",
       "111  ASM                         854.183539\n",
       "167  AND                         926.955330"
      ]
     },
     "execution_count": 22,
     "metadata": {},
     "output_type": "execute_result"
    }
   ],
   "source": [
    "ncds2 = pd.read_csv('burden-of-disease-by-ncds.csv')\n",
    "ncds2 = ncds2.loc[ncds2['Year']==2017]\n",
    "resps = ncds2.iloc[:,[1,5]]\n",
    "resps.dropna(inplace=True)\n",
    "resps.head()"
   ]
  },
  {
   "cell_type": "code",
   "execution_count": 24,
   "metadata": {},
   "outputs": [
    {
     "data": {
      "text/html": [
       "<div>\n",
       "<style scoped>\n",
       "    .dataframe tbody tr th:only-of-type {\n",
       "        vertical-align: middle;\n",
       "    }\n",
       "\n",
       "    .dataframe tbody tr th {\n",
       "        vertical-align: top;\n",
       "    }\n",
       "\n",
       "    .dataframe thead th {\n",
       "        text-align: right;\n",
       "    }\n",
       "</style>\n",
       "<table border=\"1\" class=\"dataframe\">\n",
       "  <thead>\n",
       "    <tr style=\"text-align: right;\">\n",
       "      <th></th>\n",
       "      <th>Code</th>\n",
       "      <th>Non-communicable diseases (NCDs) (DALYs lost)</th>\n",
       "      <th>Respiratory diseases (DALYs lost)</th>\n",
       "    </tr>\n",
       "  </thead>\n",
       "  <tbody>\n",
       "    <tr>\n",
       "      <th>0</th>\n",
       "      <td>AFG</td>\n",
       "      <td>6.948558e+06</td>\n",
       "      <td>359121.716381</td>\n",
       "    </tr>\n",
       "    <tr>\n",
       "      <th>1</th>\n",
       "      <td>ALB</td>\n",
       "      <td>6.276270e+05</td>\n",
       "      <td>25151.250839</td>\n",
       "    </tr>\n",
       "    <tr>\n",
       "      <th>2</th>\n",
       "      <td>DZA</td>\n",
       "      <td>7.036442e+06</td>\n",
       "      <td>330359.109288</td>\n",
       "    </tr>\n",
       "    <tr>\n",
       "      <th>3</th>\n",
       "      <td>ASM</td>\n",
       "      <td>1.223452e+04</td>\n",
       "      <td>854.183539</td>\n",
       "    </tr>\n",
       "    <tr>\n",
       "      <th>4</th>\n",
       "      <td>AND</td>\n",
       "      <td>1.682923e+04</td>\n",
       "      <td>926.955330</td>\n",
       "    </tr>\n",
       "  </tbody>\n",
       "</table>\n",
       "</div>"
      ],
      "text/plain": [
       "  Code  Non-communicable diseases (NCDs) (DALYs lost)  \\\n",
       "0  AFG                                   6.948558e+06   \n",
       "1  ALB                                   6.276270e+05   \n",
       "2  DZA                                   7.036442e+06   \n",
       "3  ASM                                   1.223452e+04   \n",
       "4  AND                                   1.682923e+04   \n",
       "\n",
       "   Respiratory diseases (DALYs lost)  \n",
       "0                      359121.716381  \n",
       "1                       25151.250839  \n",
       "2                      330359.109288  \n",
       "3                         854.183539  \n",
       "4                         926.955330  "
      ]
     },
     "execution_count": 24,
     "metadata": {},
     "output_type": "execute_result"
    }
   ],
   "source": [
    "diseases_df = pd.merge(ncds, resps, on=['Code'], how='inner')\n",
    "diseases_df.head()"
   ]
  },
  {
   "cell_type": "code",
   "execution_count": 30,
   "metadata": {},
   "outputs": [],
   "source": [
    "# Save CSV\n",
    "diseases_df.rename(columns={'Code':'Country_Code'}, inplace=True)\n",
    "diseases_df.to_csv('diseases.csv', index=False, header=True)"
   ]
  },
  {
   "cell_type": "markdown",
   "metadata": {},
   "source": [
    "### Health Expenditure"
   ]
  },
  {
   "cell_type": "code",
   "execution_count": null,
   "metadata": {},
   "outputs": [],
   "source": [
    "# Current health expenditure per capita (current US$)\n",
    "# health_df = pd.DataFrame(columns={'Country_Code', 'Health Expenditure (USD)'})\n",
    "\n",
    "# for i in range(len(regions_df)):\n",
    "#     try:\n",
    "#         code = regions_df.iloc[i,0]\n",
    "#         health = get_indicator(code, 'SH.XPD.CHEX.PC.CD')\n",
    "#         print(f'{code} DONE')\n",
    "\n",
    "#         health_df = health_df.append({\n",
    "#             'Country_Code': code,\n",
    "#             'Health Expenditure (USD)': health,\n",
    "#         }, ignore_index=True)\n",
    "#     except:\n",
    "#         pass\n",
    "    \n",
    "# health_df"
   ]
  },
  {
   "cell_type": "code",
   "execution_count": null,
   "metadata": {},
   "outputs": [],
   "source": [
    "# Hospital beds (per 1,000 people)\n",
    "# beds_df = pd.DataFrame(columns={'Country_Code', 'Hospital beds (per 1,000)'})\n",
    "\n",
    "# for i in range(len(regions_df)):\n",
    "#     try:\n",
    "#         code = regions_df.iloc[i,0]\n",
    "#         beds = get_indicator(code, 'SH.MED.BEDS.ZS')\n",
    "#         print(f'{code} DONE')\n",
    "\n",
    "#         beds_df = beds_df.append({\n",
    "#             'Country_Code': code,\n",
    "#             'Hospital beds (per 1,000)': beds,\n",
    "#         }, ignore_index=True)\n",
    "#     except:\n",
    "#         pass\n",
    "    \n",
    "# beds_df"
   ]
  },
  {
   "cell_type": "markdown",
   "metadata": {},
   "source": [
    "### Endless Medical API"
   ]
  },
  {
   "cell_type": "code",
   "execution_count": 4,
   "metadata": {},
   "outputs": [
    {
     "name": "stdout",
     "output_type": "stream",
     "text": [
      "{\"status\":\"ok\"}\n"
     ]
    }
   ],
   "source": [
    "url = \"https://endlessmedicalapi1.p.rapidapi.com/AcceptTermsOfUse\"\n",
    "\n",
    "querystring = {\"SessionID\":\"73d9F8qEUGp1v4oQ\",\"passphrase\":\"I have read, understood and I accept and agree to comply with the Terms of Use of EndlessMedicalAPI and Endless Medical services. The Terms of Use are available on endlessmedical.com\"}\n",
    "\n",
    "payload = \"\"\n",
    "headers = {\n",
    "    'x-rapidapi-host': \"endlessmedicalapi1.p.rapidapi.com\",\n",
    "    'x-rapidapi-key': \"8cc177b195msh4e4f4ff4e0cae0fp10ed89jsn60e0207e5c4d\",\n",
    "    'content-type': \"application/x-www-form-urlencoded\"\n",
    "    }\n",
    "\n",
    "response = requests.request(\"POST\", url, data=payload, headers=headers, params=querystring)\n",
    "\n",
    "print(response.text)"
   ]
  },
  {
   "cell_type": "code",
   "execution_count": 5,
   "metadata": {},
   "outputs": [
    {
     "name": "stdout",
     "output_type": "stream",
     "text": [
      "{\"status\":\"ok\",\"SessionID\":\"5boc0h0qaGnNlenP\"}\n"
     ]
    }
   ],
   "source": [
    "url = \"https://endlessmedicalapi1.p.rapidapi.com/InitSession\"\n",
    "\n",
    "headers = {\n",
    "    'x-rapidapi-host': \"endlessmedicalapi1.p.rapidapi.com\",\n",
    "    'x-rapidapi-key': \"8cc177b195msh4e4f4ff4e0cae0fp10ed89jsn60e0207e5c4d\"\n",
    "    }\n",
    "\n",
    "response = requests.request(\"GET\", url, headers=headers)\n",
    "\n",
    "print(response.text)"
   ]
  },
  {
   "cell_type": "code",
   "execution_count": null,
   "metadata": {},
   "outputs": [],
   "source": []
  }
 ],
 "metadata": {
  "kernelspec": {
   "display_name": "Python 3",
   "language": "python",
   "name": "python3"
  },
  "language_info": {
   "codemirror_mode": {
    "name": "ipython",
    "version": 3
   },
   "file_extension": ".py",
   "mimetype": "text/x-python",
   "name": "python",
   "nbconvert_exporter": "python",
   "pygments_lexer": "ipython3",
   "version": "3.6.9"
  }
 },
 "nbformat": 4,
 "nbformat_minor": 2
}
