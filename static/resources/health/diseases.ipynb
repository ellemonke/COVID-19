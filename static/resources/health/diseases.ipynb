{
 "cells": [
  {
   "cell_type": "markdown",
   "metadata": {},
   "source": [
    "## Global Burden of Disease (GBD) \n",
    "Data Source: https://ourworldindata.org/burden-of-disease<br />\n",
    "Communicable Diseases (SH.DTH.COMM.ZS) + Non-communicable Diseases (SH.DTH.NCOM.ZS)<br />\n",
    "Disability-Adjusted Life Year (DALY) "
   ]
  },
  {
   "cell_type": "code",
   "execution_count": 1,
   "metadata": {},
   "outputs": [],
   "source": [
    "import pandas as pd\n",
    "import os\n",
    "import json\n",
    "import requests\n",
    "from pprint import pprint\n",
    "import warnings\n",
    "warnings.simplefilter('ignore')"
   ]
  },
  {
   "cell_type": "code",
   "execution_count": 4,
   "metadata": {},
   "outputs": [],
   "source": [
    "file = os.path.join('..','demographics','regions.csv')\n",
    "regions_df = pd.read_csv(file)"
   ]
  },
  {
   "cell_type": "code",
   "execution_count": null,
   "metadata": {},
   "outputs": [],
   "source": [
    "def get_indicator(country_code, indicator_code):\n",
    "\n",
    "    # API Call\n",
    "    url = f\"https://api.worldbank.org/v2/country/{country_code}/indicator/{indicator_code}?format=json\"\n",
    "    response = requests.get(url).json()\n",
    "    pages = response[0]['pages']\n",
    "    results = response[1]\n",
    "\n",
    "    # Loop through results\n",
    "#     for page in range(pages):\n",
    "    for i in range(len(results)):\n",
    "\n",
    "        indicator = results[i]['value']\n",
    "        if indicator is None:\n",
    "            pass\n",
    "        else:\n",
    "            return indicator\n",
    "            # Only the most recent value, then break\n",
    "            break"
   ]
  },
  {
   "cell_type": "markdown",
   "metadata": {},
   "source": [
    "### Non-communicable Diseases (NCD)"
   ]
  },
  {
   "cell_type": "code",
   "execution_count": null,
   "metadata": {},
   "outputs": [],
   "source": [
    "gbds = pd.read_csv('total-disease-burden-by-cause.csv')\n",
    "gbds = gbds.loc[gbds['Year']==2017]\n",
    "ncds = gbds.iloc[:,[1,3]]\n",
    "ncds.dropna(inplace=True)\n",
    "ncds.head()"
   ]
  },
  {
   "cell_type": "markdown",
   "metadata": {},
   "source": [
    "### Respiratory Diseases"
   ]
  },
  {
   "cell_type": "code",
   "execution_count": null,
   "metadata": {},
   "outputs": [],
   "source": [
    "ncds2 = pd.read_csv('burden-of-disease-by-ncds.csv')\n",
    "ncds2 = ncds2.loc[ncds2['Year']==2017]\n",
    "resps = ncds2.iloc[:,[1,5]]\n",
    "resps.dropna(inplace=True)\n",
    "resps.head()"
   ]
  },
  {
   "cell_type": "code",
   "execution_count": null,
   "metadata": {},
   "outputs": [],
   "source": [
    "diseases_df = pd.merge(ncds, resps, on=['Code'], how='inner')\n",
    "diseases_df.head()"
   ]
  },
  {
   "cell_type": "code",
   "execution_count": null,
   "metadata": {},
   "outputs": [],
   "source": [
    "# Save CSV\n",
    "diseases_df.rename(columns={'Code':'Country_Code'}, inplace=True)\n",
    "diseases_df.to_csv('diseases.csv', index=False, header=True)"
   ]
  },
  {
   "cell_type": "markdown",
   "metadata": {},
   "source": [
    "### Health Expenditure"
   ]
  },
  {
   "cell_type": "code",
   "execution_count": null,
   "metadata": {},
   "outputs": [],
   "source": [
    "# Current health expenditure per capita (current US$)\n",
    "# health_df = pd.DataFrame(columns={'Country_Code', 'Health Expenditure (USD)'})\n",
    "\n",
    "# for i in range(len(regions_df)):\n",
    "#     try:\n",
    "#         code = regions_df.iloc[i,0]\n",
    "#         health = get_indicator(code, 'SH.XPD.CHEX.PC.CD')\n",
    "#         print(f'{code} DONE')\n",
    "\n",
    "#         health_df = health_df.append({\n",
    "#             'Country_Code': code,\n",
    "#             'Health Expenditure (USD)': health,\n",
    "#         }, ignore_index=True)\n",
    "#     except:\n",
    "#         pass\n",
    "    \n",
    "# health_df"
   ]
  },
  {
   "cell_type": "code",
   "execution_count": null,
   "metadata": {},
   "outputs": [],
   "source": [
    "# Hospital beds (per 1,000 people)\n",
    "# beds_df = pd.DataFrame(columns={'Country_Code', 'Hospital beds (per 1,000)'})\n",
    "\n",
    "# for i in range(len(regions_df)):\n",
    "#     try:\n",
    "#         code = regions_df.iloc[i,0]\n",
    "#         beds = get_indicator(code, 'SH.MED.BEDS.ZS')\n",
    "#         print(f'{code} DONE')\n",
    "\n",
    "#         beds_df = beds_df.append({\n",
    "#             'Country_Code': code,\n",
    "#             'Hospital beds (per 1,000)': beds,\n",
    "#         }, ignore_index=True)\n",
    "#     except:\n",
    "#         pass\n",
    "    \n",
    "# beds_df"
   ]
  },
  {
   "cell_type": "code",
   "execution_count": null,
   "metadata": {},
   "outputs": [],
   "source": []
  }
 ],
 "metadata": {
  "kernelspec": {
   "display_name": "Python 3",
   "language": "python",
   "name": "python3"
  },
  "language_info": {
   "codemirror_mode": {
    "name": "ipython",
    "version": 3
   },
   "file_extension": ".py",
   "mimetype": "text/x-python",
   "name": "python",
   "nbconvert_exporter": "python",
   "pygments_lexer": "ipython3",
   "version": "3.6.9"
  }
 },
 "nbformat": 4,
 "nbformat_minor": 2
}
