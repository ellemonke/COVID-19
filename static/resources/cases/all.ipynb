{
 "cells": [
  {
   "cell_type": "markdown",
   "metadata": {},
   "source": [
    "## All COVID-19 Cases by Country"
   ]
  },
  {
   "cell_type": "code",
   "execution_count": 43,
   "metadata": {},
   "outputs": [],
   "source": [
    "import pandas as pd\n",
    "import numpy as np\n",
    "import os"
   ]
  },
  {
   "cell_type": "code",
   "execution_count": 44,
   "metadata": {},
   "outputs": [],
   "source": [
    "# Specific to JHCSSE data\n",
    "def clean_data(file):\n",
    "    df = pd.read_csv(file)\n",
    "    df = df.drop(['Lat','Long','Province/State'], axis=1)\n",
    "    df.rename(columns={'Country/Region': 'Country_Region'}, inplace = True)\n",
    "    df = df.groupby('Country_Region').sum()\n",
    "    df.rename(index={'US':'United States',\n",
    "        'Taiwan*':'Taiwan',\n",
    "        'Korea, South':'South Korea',\n",
    "        'Congo (Brazzaville)':'Congo',\n",
    "        'Congo (Kinshasa)':'Democratic Republic of Congo',\n",
    "        'Czechia':'Czech Republic',\n",
    "        'Gambia, The':'Gambia',},inplace=True)\n",
    "    return df"
   ]
  },
  {
   "cell_type": "markdown",
   "metadata": {},
   "source": [
    "#### Confirmed Cases"
   ]
  },
  {
   "cell_type": "code",
   "execution_count": 45,
   "metadata": {},
   "outputs": [
    {
     "data": {
      "text/html": [
       "<div>\n",
       "<style scoped>\n",
       "    .dataframe tbody tr th:only-of-type {\n",
       "        vertical-align: middle;\n",
       "    }\n",
       "\n",
       "    .dataframe tbody tr th {\n",
       "        vertical-align: top;\n",
       "    }\n",
       "\n",
       "    .dataframe thead th {\n",
       "        text-align: right;\n",
       "    }\n",
       "</style>\n",
       "<table border=\"1\" class=\"dataframe\">\n",
       "  <thead>\n",
       "    <tr style=\"text-align: right;\">\n",
       "      <th></th>\n",
       "      <th>1/22/20</th>\n",
       "      <th>1/23/20</th>\n",
       "      <th>1/24/20</th>\n",
       "      <th>1/25/20</th>\n",
       "      <th>1/26/20</th>\n",
       "      <th>1/27/20</th>\n",
       "      <th>1/28/20</th>\n",
       "      <th>1/29/20</th>\n",
       "      <th>1/30/20</th>\n",
       "      <th>1/31/20</th>\n",
       "      <th>...</th>\n",
       "      <th>4/4/20</th>\n",
       "      <th>4/5/20</th>\n",
       "      <th>4/6/20</th>\n",
       "      <th>4/7/20</th>\n",
       "      <th>4/8/20</th>\n",
       "      <th>4/9/20</th>\n",
       "      <th>4/10/20</th>\n",
       "      <th>4/11/20</th>\n",
       "      <th>4/12/20</th>\n",
       "      <th>4/13/20</th>\n",
       "    </tr>\n",
       "    <tr>\n",
       "      <th>Country_Region</th>\n",
       "      <th></th>\n",
       "      <th></th>\n",
       "      <th></th>\n",
       "      <th></th>\n",
       "      <th></th>\n",
       "      <th></th>\n",
       "      <th></th>\n",
       "      <th></th>\n",
       "      <th></th>\n",
       "      <th></th>\n",
       "      <th></th>\n",
       "      <th></th>\n",
       "      <th></th>\n",
       "      <th></th>\n",
       "      <th></th>\n",
       "      <th></th>\n",
       "      <th></th>\n",
       "      <th></th>\n",
       "      <th></th>\n",
       "      <th></th>\n",
       "      <th></th>\n",
       "    </tr>\n",
       "  </thead>\n",
       "  <tbody>\n",
       "    <tr>\n",
       "      <th>Afghanistan</th>\n",
       "      <td>0</td>\n",
       "      <td>0</td>\n",
       "      <td>0</td>\n",
       "      <td>0</td>\n",
       "      <td>0</td>\n",
       "      <td>0</td>\n",
       "      <td>0</td>\n",
       "      <td>0</td>\n",
       "      <td>0</td>\n",
       "      <td>0</td>\n",
       "      <td>...</td>\n",
       "      <td>299</td>\n",
       "      <td>349</td>\n",
       "      <td>367</td>\n",
       "      <td>423</td>\n",
       "      <td>444</td>\n",
       "      <td>484</td>\n",
       "      <td>521</td>\n",
       "      <td>555</td>\n",
       "      <td>607</td>\n",
       "      <td>665</td>\n",
       "    </tr>\n",
       "  </tbody>\n",
       "</table>\n",
       "<p>1 rows × 83 columns</p>\n",
       "</div>"
      ],
      "text/plain": [
       "                1/22/20  1/23/20  1/24/20  1/25/20  1/26/20  1/27/20  1/28/20  \\\n",
       "Country_Region                                                                  \n",
       "Afghanistan           0        0        0        0        0        0        0   \n",
       "\n",
       "                1/29/20  1/30/20  1/31/20  ...  4/4/20  4/5/20  4/6/20  \\\n",
       "Country_Region                             ...                           \n",
       "Afghanistan           0        0        0  ...     299     349     367   \n",
       "\n",
       "                4/7/20  4/8/20  4/9/20  4/10/20  4/11/20  4/12/20  4/13/20  \n",
       "Country_Region                                                              \n",
       "Afghanistan        423     444     484      521      555      607      665  \n",
       "\n",
       "[1 rows x 83 columns]"
      ]
     },
     "execution_count": 45,
     "metadata": {},
     "output_type": "execute_result"
    }
   ],
   "source": [
    "# All Countries\n",
    "confirmed_df = clean_data('https://raw.githubusercontent.com/CSSEGISandData/COVID-19/master/csse_covid_19_data/csse_covid_19_time_series/time_series_covid19_confirmed_global.csv')\n",
    "confirmed_df.head(1)"
   ]
  },
  {
   "cell_type": "code",
   "execution_count": 48,
   "metadata": {},
   "outputs": [
    {
     "data": {
      "text/html": [
       "<div>\n",
       "<style scoped>\n",
       "    .dataframe tbody tr th:only-of-type {\n",
       "        vertical-align: middle;\n",
       "    }\n",
       "\n",
       "    .dataframe tbody tr th {\n",
       "        vertical-align: top;\n",
       "    }\n",
       "\n",
       "    .dataframe thead th {\n",
       "        text-align: right;\n",
       "    }\n",
       "</style>\n",
       "<table border=\"1\" class=\"dataframe\">\n",
       "  <thead>\n",
       "    <tr style=\"text-align: right;\">\n",
       "      <th></th>\n",
       "      <th>1/22/20</th>\n",
       "      <th>1/23/20</th>\n",
       "      <th>1/24/20</th>\n",
       "      <th>1/25/20</th>\n",
       "      <th>1/26/20</th>\n",
       "      <th>1/27/20</th>\n",
       "      <th>1/28/20</th>\n",
       "      <th>1/29/20</th>\n",
       "      <th>1/30/20</th>\n",
       "      <th>1/31/20</th>\n",
       "      <th>...</th>\n",
       "      <th>4/4/20</th>\n",
       "      <th>4/5/20</th>\n",
       "      <th>4/6/20</th>\n",
       "      <th>4/7/20</th>\n",
       "      <th>4/8/20</th>\n",
       "      <th>4/9/20</th>\n",
       "      <th>4/10/20</th>\n",
       "      <th>4/11/20</th>\n",
       "      <th>4/12/20</th>\n",
       "      <th>4/13/20</th>\n",
       "    </tr>\n",
       "    <tr>\n",
       "      <th>Country_Region</th>\n",
       "      <th></th>\n",
       "      <th></th>\n",
       "      <th></th>\n",
       "      <th></th>\n",
       "      <th></th>\n",
       "      <th></th>\n",
       "      <th></th>\n",
       "      <th></th>\n",
       "      <th></th>\n",
       "      <th></th>\n",
       "      <th></th>\n",
       "      <th></th>\n",
       "      <th></th>\n",
       "      <th></th>\n",
       "      <th></th>\n",
       "      <th></th>\n",
       "      <th></th>\n",
       "      <th></th>\n",
       "      <th></th>\n",
       "      <th></th>\n",
       "      <th></th>\n",
       "    </tr>\n",
       "  </thead>\n",
       "  <tbody>\n",
       "    <tr>\n",
       "      <th>Western Sahara</th>\n",
       "      <td>0</td>\n",
       "      <td>0</td>\n",
       "      <td>0</td>\n",
       "      <td>0</td>\n",
       "      <td>0</td>\n",
       "      <td>0</td>\n",
       "      <td>0</td>\n",
       "      <td>0</td>\n",
       "      <td>0</td>\n",
       "      <td>0</td>\n",
       "      <td>...</td>\n",
       "      <td>0</td>\n",
       "      <td>4</td>\n",
       "      <td>4</td>\n",
       "      <td>4</td>\n",
       "      <td>4</td>\n",
       "      <td>4</td>\n",
       "      <td>4</td>\n",
       "      <td>4</td>\n",
       "      <td>6</td>\n",
       "      <td>6</td>\n",
       "    </tr>\n",
       "    <tr>\n",
       "      <th>Yemen</th>\n",
       "      <td>0</td>\n",
       "      <td>0</td>\n",
       "      <td>0</td>\n",
       "      <td>0</td>\n",
       "      <td>0</td>\n",
       "      <td>0</td>\n",
       "      <td>0</td>\n",
       "      <td>0</td>\n",
       "      <td>0</td>\n",
       "      <td>0</td>\n",
       "      <td>...</td>\n",
       "      <td>0</td>\n",
       "      <td>0</td>\n",
       "      <td>0</td>\n",
       "      <td>0</td>\n",
       "      <td>0</td>\n",
       "      <td>0</td>\n",
       "      <td>1</td>\n",
       "      <td>1</td>\n",
       "      <td>1</td>\n",
       "      <td>1</td>\n",
       "    </tr>\n",
       "    <tr>\n",
       "      <th>Zambia</th>\n",
       "      <td>0</td>\n",
       "      <td>0</td>\n",
       "      <td>0</td>\n",
       "      <td>0</td>\n",
       "      <td>0</td>\n",
       "      <td>0</td>\n",
       "      <td>0</td>\n",
       "      <td>0</td>\n",
       "      <td>0</td>\n",
       "      <td>0</td>\n",
       "      <td>...</td>\n",
       "      <td>39</td>\n",
       "      <td>39</td>\n",
       "      <td>39</td>\n",
       "      <td>39</td>\n",
       "      <td>39</td>\n",
       "      <td>39</td>\n",
       "      <td>40</td>\n",
       "      <td>40</td>\n",
       "      <td>43</td>\n",
       "      <td>45</td>\n",
       "    </tr>\n",
       "    <tr>\n",
       "      <th>Zimbabwe</th>\n",
       "      <td>0</td>\n",
       "      <td>0</td>\n",
       "      <td>0</td>\n",
       "      <td>0</td>\n",
       "      <td>0</td>\n",
       "      <td>0</td>\n",
       "      <td>0</td>\n",
       "      <td>0</td>\n",
       "      <td>0</td>\n",
       "      <td>0</td>\n",
       "      <td>...</td>\n",
       "      <td>9</td>\n",
       "      <td>9</td>\n",
       "      <td>10</td>\n",
       "      <td>11</td>\n",
       "      <td>11</td>\n",
       "      <td>11</td>\n",
       "      <td>13</td>\n",
       "      <td>14</td>\n",
       "      <td>14</td>\n",
       "      <td>17</td>\n",
       "    </tr>\n",
       "    <tr>\n",
       "      <th>Global</th>\n",
       "      <td>555</td>\n",
       "      <td>654</td>\n",
       "      <td>941</td>\n",
       "      <td>1434</td>\n",
       "      <td>2118</td>\n",
       "      <td>2927</td>\n",
       "      <td>5578</td>\n",
       "      <td>6166</td>\n",
       "      <td>8234</td>\n",
       "      <td>9927</td>\n",
       "      <td>...</td>\n",
       "      <td>1197408</td>\n",
       "      <td>1272115</td>\n",
       "      <td>1345101</td>\n",
       "      <td>1426096</td>\n",
       "      <td>1511104</td>\n",
       "      <td>1595350</td>\n",
       "      <td>1691719</td>\n",
       "      <td>1771514</td>\n",
       "      <td>1846679</td>\n",
       "      <td>1917319</td>\n",
       "    </tr>\n",
       "  </tbody>\n",
       "</table>\n",
       "<p>5 rows × 83 columns</p>\n",
       "</div>"
      ],
      "text/plain": [
       "                1/22/20  1/23/20  1/24/20  1/25/20  1/26/20  1/27/20  1/28/20  \\\n",
       "Country_Region                                                                  \n",
       "Western Sahara        0        0        0        0        0        0        0   \n",
       "Yemen                 0        0        0        0        0        0        0   \n",
       "Zambia                0        0        0        0        0        0        0   \n",
       "Zimbabwe              0        0        0        0        0        0        0   \n",
       "Global              555      654      941     1434     2118     2927     5578   \n",
       "\n",
       "                1/29/20  1/30/20  1/31/20  ...   4/4/20   4/5/20   4/6/20  \\\n",
       "Country_Region                             ...                              \n",
       "Western Sahara        0        0        0  ...        0        4        4   \n",
       "Yemen                 0        0        0  ...        0        0        0   \n",
       "Zambia                0        0        0  ...       39       39       39   \n",
       "Zimbabwe              0        0        0  ...        9        9       10   \n",
       "Global             6166     8234     9927  ...  1197408  1272115  1345101   \n",
       "\n",
       "                 4/7/20   4/8/20   4/9/20  4/10/20  4/11/20  4/12/20  4/13/20  \n",
       "Country_Region                                                                 \n",
       "Western Sahara        4        4        4        4        4        6        6  \n",
       "Yemen                 0        0        0        1        1        1        1  \n",
       "Zambia               39       39       39       40       40       43       45  \n",
       "Zimbabwe             11       11       11       13       14       14       17  \n",
       "Global          1426096  1511104  1595350  1691719  1771514  1846679  1917319  \n",
       "\n",
       "[5 rows x 83 columns]"
      ]
     },
     "execution_count": 48,
     "metadata": {},
     "output_type": "execute_result"
    }
   ],
   "source": [
    "# Global row\n",
    "global_row = pd.Series(confirmed_df.sum(), name='Global')\n",
    "confirmed_df = confirmed_df.append(global_row)\n",
    "confirmed_df.tail()"
   ]
  },
  {
   "cell_type": "code",
   "execution_count": 49,
   "metadata": {},
   "outputs": [
    {
     "data": {
      "text/plain": [
       "Index(['United States', 'Spain', 'Italy', 'France', 'Germany',\n",
       "       'United Kingdom', 'China', 'Iran', 'Turkey', 'Belgium', 'Netherlands',\n",
       "       'Switzerland', 'Canada', 'Brazil'],\n",
       "      dtype='object', name='Country_Region')"
      ]
     },
     "execution_count": 49,
     "metadata": {},
     "output_type": "execute_result"
    }
   ],
   "source": [
    "# Top Countries\n",
    "n = 15\n",
    "last_day = confirmed_df.columns[-1]\n",
    "top_confirmed_df = confirmed_df.nlargest(n, last_day)\n",
    "top_confirmed_df.drop(index='Global', inplace=True)\n",
    "top_confirmed_df.index"
   ]
  },
  {
   "cell_type": "markdown",
   "metadata": {},
   "source": [
    "#### Fatalities"
   ]
  },
  {
   "cell_type": "code",
   "execution_count": 6,
   "metadata": {},
   "outputs": [],
   "source": [
    "# All Countries\n",
    "fatalities_df = clean_data('https://raw.githubusercontent.com/CSSEGISandData/COVID-19/master/csse_covid_19_data/csse_covid_19_time_series/time_series_covid19_deaths_global.csv')\n",
    "\n",
    "# Global row\n",
    "global_row = pd.Series(fatalities_df.sum(), name='Global')\n",
    "fatalities_df = fatalities_df.append(global_row)\n",
    "\n",
    "# Top Countries\n",
    "top_fatalities_df = fatalities_df.loc[fatalities_df.index.isin(top_confirmed_df.index)]"
   ]
  },
  {
   "cell_type": "markdown",
   "metadata": {},
   "source": [
    "#### Recovered"
   ]
  },
  {
   "cell_type": "code",
   "execution_count": 7,
   "metadata": {},
   "outputs": [],
   "source": [
    "# All Countries\n",
    "recovered_df = clean_data('https://raw.githubusercontent.com/CSSEGISandData/COVID-19/master/csse_covid_19_data/csse_covid_19_time_series/time_series_covid19_recovered_global.csv')\n",
    "\n",
    "# Global row\n",
    "global_row = pd.Series(recovered_df.sum(), name='Global')\n",
    "recovered_df = recovered_df.append(global_row)\n",
    "\n",
    "# Top Countries\n",
    "top_recovered_df = recovered_df.loc[recovered_df.index.isin(top_confirmed_df.index)]"
   ]
  },
  {
   "cell_type": "markdown",
   "metadata": {},
   "source": [
    "#### Infected = Confirmed - Recovered"
   ]
  },
  {
   "cell_type": "code",
   "execution_count": 8,
   "metadata": {},
   "outputs": [],
   "source": [
    "# All Countries\n",
    "infected_df = confirmed_df-recovered_df\n",
    "\n",
    "# Global row\n",
    "global_row = pd.Series(infected_df.sum(), name='Global')\n",
    "infected_df = infected_df.append(global_row)\n",
    "\n",
    "# Top Countries\n",
    "top_infected_df = infected_df.loc[infected_df.index.isin(top_confirmed_df.index)]"
   ]
  },
  {
   "cell_type": "code",
   "execution_count": 18,
   "metadata": {},
   "outputs": [
    {
     "data": {
      "text/plain": [
       "522325"
      ]
     },
     "execution_count": 18,
     "metadata": {},
     "output_type": "execute_result"
    }
   ],
   "source": [
    "# peak = top_infected_df.loc['China','2/18/20']\n",
    "peak = top_infected_df.loc['United States','4/12/20']\n",
    "peak"
   ]
  },
  {
   "cell_type": "markdown",
   "metadata": {},
   "source": [
    "#### Most recent"
   ]
  },
  {
   "cell_type": "code",
   "execution_count": 10,
   "metadata": {},
   "outputs": [],
   "source": [
    "def recent_stat(country_name, df):\n",
    "    lookup = list(df.loc[df.index == country_name].values[0])\n",
    "    lookup.reverse()\n",
    "    most_recent = next((i for i in lookup if i.any()), None)\n",
    "    return most_recent\n",
    "\n",
    "# print(recent_stat(\"United States\", top_infected_df))\n",
    "# print(recent_stat(\"Italy\", top_infected_df))"
   ]
  },
  {
   "cell_type": "markdown",
   "metadata": {},
   "source": [
    "#### All Cases"
   ]
  },
  {
   "cell_type": "code",
   "execution_count": 11,
   "metadata": {},
   "outputs": [],
   "source": [
    "countries = confirmed_df.index\n",
    "all_df = pd.DataFrame(columns=['Country_Region', 'Confirmed', 'Recovered', 'Fatalities'], data=[])\n",
    "for country in countries:\n",
    "    all_df = all_df.append({'Country_Region': country,\n",
    "                            'Confirmed': recent_stat(country, confirmed_df),\n",
    "                            'Recovered': recent_stat(country, recovered_df),\n",
    "                            'Fatalities': recent_stat(country, fatalities_df),\n",
    "                           }, ignore_index=True)"
   ]
  },
  {
   "cell_type": "code",
   "execution_count": 12,
   "metadata": {},
   "outputs": [],
   "source": [
    "# First Day Values\n",
    "def first_day(df, country):\n",
    "    row = list(df.loc[df.index == country].values[0])\n",
    "    col = next((i for i, j in enumerate(row) if j.any()), None)     \n",
    "    first_day = df.columns[col]\n",
    "    return first_day\n",
    "\n",
    "# Example:\n",
    "# print(first_day(top_confirmed_df, \"Italy\"))\n",
    "# print(first_day(top_fatalities_df, \"Italy\"))"
   ]
  },
  {
   "cell_type": "code",
   "execution_count": 13,
   "metadata": {},
   "outputs": [],
   "source": [
    "# First Day column\n",
    "firsts = [] \n",
    "for country in countries:\n",
    "    firsts.append(first_day(confirmed_df, country))\n",
    "all_df['First Day'] = firsts"
   ]
  },
  {
   "cell_type": "code",
   "execution_count": 14,
   "metadata": {},
   "outputs": [
    {
     "data": {
      "text/html": [
       "<div>\n",
       "<style scoped>\n",
       "    .dataframe tbody tr th:only-of-type {\n",
       "        vertical-align: middle;\n",
       "    }\n",
       "\n",
       "    .dataframe tbody tr th {\n",
       "        vertical-align: top;\n",
       "    }\n",
       "\n",
       "    .dataframe thead th {\n",
       "        text-align: right;\n",
       "    }\n",
       "</style>\n",
       "<table border=\"1\" class=\"dataframe\">\n",
       "  <thead>\n",
       "    <tr style=\"text-align: right;\">\n",
       "      <th></th>\n",
       "      <th>Country_Region</th>\n",
       "      <th>Confirmed</th>\n",
       "      <th>Recovered</th>\n",
       "      <th>Fatalities</th>\n",
       "      <th>First Day</th>\n",
       "    </tr>\n",
       "  </thead>\n",
       "  <tbody>\n",
       "    <tr>\n",
       "      <th>182</th>\n",
       "      <td>Yemen</td>\n",
       "      <td>1</td>\n",
       "      <td>NaN</td>\n",
       "      <td>NaN</td>\n",
       "      <td>4/10/20</td>\n",
       "    </tr>\n",
       "    <tr>\n",
       "      <th>183</th>\n",
       "      <td>Zambia</td>\n",
       "      <td>45</td>\n",
       "      <td>30.0</td>\n",
       "      <td>2.0</td>\n",
       "      <td>3/18/20</td>\n",
       "    </tr>\n",
       "    <tr>\n",
       "      <th>184</th>\n",
       "      <td>Zimbabwe</td>\n",
       "      <td>17</td>\n",
       "      <td>NaN</td>\n",
       "      <td>3.0</td>\n",
       "      <td>3/20/20</td>\n",
       "    </tr>\n",
       "    <tr>\n",
       "      <th>185</th>\n",
       "      <td>Global</td>\n",
       "      <td>1917319</td>\n",
       "      <td>448655.0</td>\n",
       "      <td>119482.0</td>\n",
       "      <td>1/22/20</td>\n",
       "    </tr>\n",
       "    <tr>\n",
       "      <th>186</th>\n",
       "      <td>Global</td>\n",
       "      <td>3834638</td>\n",
       "      <td>897326.0</td>\n",
       "      <td>238964.0</td>\n",
       "      <td>1/22/20</td>\n",
       "    </tr>\n",
       "  </tbody>\n",
       "</table>\n",
       "</div>"
      ],
      "text/plain": [
       "    Country_Region  Confirmed  Recovered  Fatalities First Day\n",
       "182          Yemen          1        NaN         NaN   4/10/20\n",
       "183         Zambia         45       30.0         2.0   3/18/20\n",
       "184       Zimbabwe         17        NaN         3.0   3/20/20\n",
       "185         Global    1917319   448655.0    119482.0   1/22/20\n",
       "186         Global    3834638   897326.0    238964.0   1/22/20"
      ]
     },
     "execution_count": 14,
     "metadata": {},
     "output_type": "execute_result"
    }
   ],
   "source": [
    "# Global row\n",
    "all_df = all_df.append(all_df.sum(), ignore_index=True)\n",
    "all_df = all_df.replace(all_df.iloc[-1,0], 'Global')\n",
    "all_df.replace(all_df.iloc[-1, -1], all_df['First Day'].values.min(), inplace=True)\n",
    "all_df.tail()"
   ]
  },
  {
   "cell_type": "code",
   "execution_count": 15,
   "metadata": {},
   "outputs": [],
   "source": [
    "# Save JSON\n",
    "# all_df.to_json('all.json', orient='records')"
   ]
  },
  {
   "cell_type": "markdown",
   "metadata": {},
   "source": [
    "## Reorganizing Data to First Day of Confirmed Case"
   ]
  },
  {
   "cell_type": "code",
   "execution_count": 16,
   "metadata": {},
   "outputs": [],
   "source": [
    "# New dataframes with all non-zero values at beginning\n",
    "def first_day_df(df):\n",
    "    dates = df.columns.tolist()\n",
    "    days = range(len(dates))\n",
    "    \n",
    "    new_df = pd.DataFrame(columns=days)\n",
    "\n",
    "    countries = df.index              # list of countries\n",
    "    for country in countries:\n",
    "        # Grab the country's row\n",
    "        row = list(df.loc[df.index == country].values[0])\n",
    "        # Grab the column index of first non-zero value\n",
    "        col = next((i for i, j in enumerate(row) if j.any()), None)     \n",
    "        # Calculate date\n",
    "        first_day = df.columns[col]\n",
    "        # Reset first day\n",
    "        row = row[col:] + row[:col]\n",
    "        # New rearranged dataframe\n",
    "        new_df = new_df.append([row])\n",
    "\n",
    "    # Same countries indexed\n",
    "    new_df.index = df.index\n",
    "    new_df = new_df.replace(0,np.NaN)\n",
    "    \n",
    "    return new_df"
   ]
  },
  {
   "cell_type": "code",
   "execution_count": 17,
   "metadata": {},
   "outputs": [],
   "source": [
    "first_confirmed_top = first_day_df(top_confirmed_df)\n",
    "first_infected_top = first_day_df(top_infected_df)\n",
    "\n",
    "first_confirmed_all = first_day_df(confirmed_df)\n",
    "# first_fatalities_all = first_day_df(fatalities_df)\n",
    "# first_recovered_all = first_day_df(recovered_df)\n",
    "# first_infected_all = first_day_df(infected_df)"
   ]
  },
  {
   "cell_type": "markdown",
   "metadata": {},
   "source": [
    "#### By Region"
   ]
  },
  {
   "cell_type": "code",
   "execution_count": 60,
   "metadata": {},
   "outputs": [],
   "source": [
    "# regions_df = pd.read_csv('../demographics/regions.csv')\n",
    "# confirmed_byregion = pd.merge(regions_df, all_df, on='Country_Region', how='inner')\n",
    "# confirmed_byregion.sort_values('First Day', inplace=True)\n",
    "# confirmed_byregion.head(40)"
   ]
  },
  {
   "cell_type": "code",
   "execution_count": 61,
   "metadata": {},
   "outputs": [],
   "source": [
    "# centralasia = confirmed_byregion.loc[confirmed_byregion['Region'].str.contains('Central Asia')]\n",
    "# centralasia.sort_values('First Day')"
   ]
  },
  {
   "cell_type": "code",
   "execution_count": null,
   "metadata": {},
   "outputs": [],
   "source": []
  }
 ],
 "metadata": {
  "kernelspec": {
   "display_name": "Python 3",
   "language": "python",
   "name": "python3"
  },
  "language_info": {
   "codemirror_mode": {
    "name": "ipython",
    "version": 3
   },
   "file_extension": ".py",
   "mimetype": "text/x-python",
   "name": "python",
   "nbconvert_exporter": "python",
   "pygments_lexer": "ipython3",
   "version": "3.6.9"
  }
 },
 "nbformat": 4,
 "nbformat_minor": 2
}
