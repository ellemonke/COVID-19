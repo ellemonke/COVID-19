{
 "cells": [
  {
   "cell_type": "markdown",
   "metadata": {},
   "source": [
    "## Regions"
   ]
  },
  {
   "cell_type": "code",
   "execution_count": 2,
   "metadata": {},
   "outputs": [],
   "source": [
    "import pandas as pd\n",
    "import os\n",
    "import json\n",
    "import requests\n",
    "from pprint import pprint"
   ]
  },
  {
   "cell_type": "code",
   "execution_count": 2,
   "metadata": {},
   "outputs": [
    {
     "data": {
      "text/html": [
       "<div>\n",
       "<style scoped>\n",
       "    .dataframe tbody tr th:only-of-type {\n",
       "        vertical-align: middle;\n",
       "    }\n",
       "\n",
       "    .dataframe tbody tr th {\n",
       "        vertical-align: top;\n",
       "    }\n",
       "\n",
       "    .dataframe thead th {\n",
       "        text-align: right;\n",
       "    }\n",
       "</style>\n",
       "<table border=\"1\" class=\"dataframe\">\n",
       "  <thead>\n",
       "    <tr style=\"text-align: right;\">\n",
       "      <th></th>\n",
       "      <th>Country_Code</th>\n",
       "      <th>Country_Region</th>\n",
       "      <th>Region</th>\n",
       "    </tr>\n",
       "  </thead>\n",
       "  <tbody>\n",
       "    <tr>\n",
       "      <th>0</th>\n",
       "      <td>ABW</td>\n",
       "      <td>Aruba</td>\n",
       "      <td>Latin America &amp; Caribbean</td>\n",
       "    </tr>\n",
       "    <tr>\n",
       "      <th>1</th>\n",
       "      <td>AFG</td>\n",
       "      <td>Afghanistan</td>\n",
       "      <td>South Asia</td>\n",
       "    </tr>\n",
       "    <tr>\n",
       "      <th>3</th>\n",
       "      <td>AGO</td>\n",
       "      <td>Angola</td>\n",
       "      <td>Sub-Saharan Africa</td>\n",
       "    </tr>\n",
       "    <tr>\n",
       "      <th>4</th>\n",
       "      <td>ALB</td>\n",
       "      <td>Albania</td>\n",
       "      <td>Europe &amp; Central Asia</td>\n",
       "    </tr>\n",
       "    <tr>\n",
       "      <th>5</th>\n",
       "      <td>AND</td>\n",
       "      <td>Andorra</td>\n",
       "      <td>Europe &amp; Central Asia</td>\n",
       "    </tr>\n",
       "  </tbody>\n",
       "</table>\n",
       "</div>"
      ],
      "text/plain": [
       "  Country_Code Country_Region                      Region\n",
       "0          ABW          Aruba  Latin America & Caribbean \n",
       "1          AFG    Afghanistan                  South Asia\n",
       "3          AGO         Angola         Sub-Saharan Africa \n",
       "4          ALB        Albania       Europe & Central Asia\n",
       "5          AND        Andorra       Europe & Central Asia"
      ]
     },
     "execution_count": 2,
     "metadata": {},
     "output_type": "execute_result"
    }
   ],
   "source": [
    "# API results to dataframe\n",
    "base_url = 'https://api.worldbank.org/v2/country'\n",
    "response = requests.get(f'{base_url}?format=json').json()\n",
    "pages = response[0]['pages']\n",
    "\n",
    "regions_df = pd.DataFrame(columns=['Country_Code', 'Country_Region', 'Region'])\n",
    "    \n",
    "for page in range(pages):\n",
    "    url = f'{base_url}?page={page+1}&format=json'\n",
    "    response = requests.get(url).json()    \n",
    "    results = response[1]\n",
    "\n",
    "    for i in range(len(results)):\n",
    "        regions_df = regions_df.append({\n",
    "            'Country_Code': results[i]['id'],\n",
    "            'Country_Region': results[i]['name'],\n",
    "            'Region': results[i]['region']['value'],\n",
    "        }, ignore_index=True)\n",
    "\n",
    "regions_df = regions_df.loc[regions_df['Region'] != 'Aggregates']\n",
    "regions_df = regions_df.drop_duplicates()\n",
    "regions_df.head()"
   ]
  },
  {
   "cell_type": "code",
   "execution_count": 8,
   "metadata": {},
   "outputs": [],
   "source": [
    "# Replace with modern names\n",
    "regions_df.replace('Korea, Rep.', 'South Korea', inplace=True)\n",
    "regions_df.replace('Iran, Islamic Rep.', 'Iran', inplace=True)\n",
    "regions_df.replace('Bahamas, The', 'Bahamas', inplace=True)\n",
    "regions_df.replace('Brunei Darussalam', 'Brunei', inplace=True)\n",
    "regions_df.replace('Cabo Verde', 'Cape Verde', inplace=True)\n",
    "regions_df.replace('Congo, Dem. Rep.', 'Democratic Republic of Congo', inplace=True)\n",
    "regions_df.replace('Congo, Rep.', 'Congo', inplace=True)\n",
    "regions_df.replace('Egypt, Arab Rep.', 'Egypt', inplace=True)\n",
    "regions_df.replace('Korea, Dem. People’s Rep.', 'North Korea', inplace=True)\n",
    "regions_df.replace('Kyrgyz Republic', 'Kyrgyzstan', inplace=True)\n",
    "regions_df.replace('Lao PDR', 'Laos', inplace=True)\n",
    "regions_df.replace('Micronesia, Fed. Sts.', 'Micronesia (country)', inplace=True)\n",
    "regions_df.replace('North Macedonia', 'Macedonia', inplace=True)\n",
    "regions_df.replace('Russian Federation', 'Russia', inplace=True)\n",
    "regions_df.replace('Slovak Republic', 'Slovakia', inplace=True)\n",
    "regions_df.replace('St. Lucia', 'Saint Lucia', inplace=True)\n",
    "regions_df.replace('St. Vincent and the Grenadines', 'Saint Vincent and the Grenadines', inplace=True)\n",
    "regions_df.replace('Syrian Arab Republic', 'Syria', inplace=True)\n",
    "regions_df.replace('Taiwan, China', 'Taiwan', inplace=True)\n",
    "regions_df.replace('Virgin Islands (U.S.)', 'United States Virgin Islands', inplace=True)\n",
    "regions_df.replace('Venezuela, RB', 'Venezuela', inplace=True)\n",
    "regions_df.replace('Yemen, Rep.', 'Yemen', inplace=True)"
   ]
  },
  {
   "cell_type": "code",
   "execution_count": 9,
   "metadata": {},
   "outputs": [],
   "source": [
    "# Save CSV\n",
    "regions_df.to_csv('regions.csv', index=False, header=True)"
   ]
  },
  {
   "cell_type": "code",
   "execution_count": null,
   "metadata": {},
   "outputs": [],
   "source": []
  }
 ],
 "metadata": {
  "kernelspec": {
   "display_name": "Python 3",
   "language": "python",
   "name": "python3"
  },
  "language_info": {
   "codemirror_mode": {
    "name": "ipython",
    "version": 3
   },
   "file_extension": ".py",
   "mimetype": "text/x-python",
   "name": "python",
   "nbconvert_exporter": "python",
   "pygments_lexer": "ipython3",
   "version": "3.6.9"
  }
 },
 "nbformat": 4,
 "nbformat_minor": 2
}
